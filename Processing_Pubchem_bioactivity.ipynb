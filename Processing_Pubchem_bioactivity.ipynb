{
  "nbformat": 4,
  "nbformat_minor": 0,
  "metadata": {
    "colab": {
      "name": "Processing-Pubchem-bioactivity.ipynb",
      "provenance": [],
      "collapsed_sections": [],
      "mount_file_id": "1rJkOjsWZDy-IAWu6s6sbHkviqDu6mV-N",
      "authorship_tag": "ABX9TyPPJrkmTTsUeWF1a+ql7kbX"
    },
    "kernelspec": {
      "name": "python3",
      "display_name": "Python 3"
    },
    "language_info": {
      "name": "python"
    }
  },
  "cells": [
    {
      "cell_type": "code",
      "execution_count": 2,
      "metadata": {
        "id": "3MLC0LMdxDD_"
      },
      "outputs": [],
      "source": [
        "import pandas as pd\n",
        "import numpy as np\n",
        "import os"
      ]
    },
    {
      "cell_type": "code",
      "source": [
        "path = \"/content/drive/MyDrive/Current-Work/ML-Chemistry-Department-2021/IC50-Activities\""
      ],
      "metadata": {
        "id": "8adKkpdbXwiV"
      },
      "execution_count": 3,
      "outputs": []
    },
    {
      "cell_type": "code",
      "source": [
        "ic_data = dict()\n",
        "\n",
        "for csv_file in os.listdir(path):\n",
        "  \n",
        "  csv_path = f\"{path}/{csv_file}\"\n",
        "  \n",
        "  data = pd.read_csv(csv_path)\n",
        "\n",
        "  keywords = ['dpph', 'cytotoxicity', 'antioxidant', 'antibacterial']\n",
        "\n",
        "  ic_values = dict()\n",
        "\n",
        "  for value, name in zip(data.acvalue, data.aidname):\n",
        "    for word in keywords:\n",
        "      if word.lower() in name.lower() and not pd.isnull(value):\n",
        "        ic_values[name]=np.float16(value)\n",
        "  \n",
        "  ic_data[csv_file.split('.')[0]] = ic_values"
      ],
      "metadata": {
        "id": "Q9USn9UzX_B_"
      },
      "execution_count": 4,
      "outputs": []
    },
    {
      "cell_type": "code",
      "source": [
        "len(ic_data['CID_10085878_bioactivity'])"
      ],
      "metadata": {
        "colab": {
          "base_uri": "https://localhost:8080/"
        },
        "id": "bMQMdjS9J9cF",
        "outputId": "cd33b837-629e-415e-e895-10a0577d54b2"
      },
      "execution_count": 8,
      "outputs": [
        {
          "output_type": "execute_result",
          "data": {
            "text/plain": [
              "0"
            ]
          },
          "metadata": {},
          "execution_count": 8
        }
      ]
    }
  ]
}