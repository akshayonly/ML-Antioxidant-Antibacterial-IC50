{
  "nbformat": 4,
  "nbformat_minor": 0,
  "metadata": {
    "colab": {
      "name": "CDP-2021-Cytotoxicity-Models.ipynb",
      "provenance": [],
      "collapsed_sections": [
        "2S95-BK9mQAM",
        "O_0DrMt4C5Lc",
        "ybqGQDHaRiAS",
        "ZwAw-49cN-eX",
        "u_4HhGMRXnyo"
      ],
      "mount_file_id": "1MPWvwrJFSpKsBFqXKdeBZNiXnBRz3zER",
      "authorship_tag": "ABX9TyPv/QizVoNU6eWq7YPbuXFt",
      "include_colab_link": true
    },
    "kernelspec": {
      "name": "python3",
      "display_name": "Python 3"
    },
    "language_info": {
      "name": "python"
    }
  },
  "cells": [
    {
      "cell_type": "markdown",
      "metadata": {
        "id": "view-in-github",
        "colab_type": "text"
      },
      "source": [
        "<a href=\"https://colab.research.google.com/github/akshayonly/ML-Antioxidant-Antibacterial-IC50/blob/main/CDP_2021_Cytotoxicity_Models.ipynb\" target=\"_parent\"><img src=\"https://colab.research.google.com/assets/colab-badge.svg\" alt=\"Open In Colab\"/></a>"
      ]
    },
    {
      "cell_type": "markdown",
      "source": [
        "# Antioxidant Neural Network Models\n",
        "\n",
        "CONTENT\n",
        "- Libraries\n",
        "- Data\n",
        "- Data Preprocessing\n",
        "    - Conversion from IC50 to pIC50\n",
        "    - PaDel Descriptor\n",
        "    - Data Splitting\n",
        "- Antioxidant Models\n",
        "    - SGD Regressor \n",
        "    - Neural Network\n",
        "- Result & Conclusion"
      ],
      "metadata": {
        "id": "IDYKc2oll9Ss"
      }
    },
    {
      "cell_type": "markdown",
      "source": [
        "## Libraries"
      ],
      "metadata": {
        "id": "2S95-BK9mQAM"
      }
    },
    {
      "cell_type": "code",
      "execution_count": 1,
      "metadata": {
        "id": "oaY-y4Tk7LPh"
      },
      "outputs": [],
      "source": [
        "# Data handling\n",
        "import pandas as pd\n",
        "import numpy as np\n",
        "\n",
        "# Visualisation\n",
        "import matplotlib.pyplot as plt\n",
        "import seaborn as sns\n",
        "\n",
        "from pprint import pprint\n",
        "\n",
        "# Data preprocessing\n",
        "from sklearn.model_selection import train_test_split, GridSearchCV\n",
        "from sklearn.preprocessing import StandardScaler, Normalizer\n",
        "from sklearn.metrics import r2_score, mean_squared_error\n",
        "\n",
        "# Machine learning algorithms\n",
        "from sklearn.ensemble import RandomForestRegressor\n",
        "from sklearn.linear_model import LinearRegression, SGDRegressor\n",
        "\n",
        "# Deep learning (Neural Network)\n",
        "%tensorflow_version 2.x\n",
        "import tensorflow as tf\n",
        "from tensorflow import keras\n",
        "from keras.models import Sequential\n",
        "from keras.layers import Dense, Dropout"
      ]
    },
    {
      "cell_type": "markdown",
      "source": [
        "## Data"
      ],
      "metadata": {
        "id": "dqB5ItlnmSCM"
      }
    },
    {
      "cell_type": "code",
      "source": [
        "antioxidant_path = \"/content/drive/MyDrive/Current-Work/ML-Chemistry-Department-2021/cytotoxicity_final.csv\"\n",
        "\n",
        "antioxidant_data = pd.read_csv(antioxidant_path)\n",
        "antioxidant_data.head()"
      ],
      "metadata": {
        "colab": {
          "base_uri": "https://localhost:8080/",
          "height": 339
        },
        "id": "5x8dNRo6LrjC",
        "outputId": "159e1120-f0fc-4664-ee28-0c6705b07bf0"
      },
      "execution_count": 2,
      "outputs": [
        {
          "output_type": "execute_result",
          "data": {
            "text/html": [
              "\n",
              "  <div id=\"df-7574e335-f6a3-4903-9870-abd46a3261a2\">\n",
              "    <div class=\"colab-df-container\">\n",
              "      <div>\n",
              "<style scoped>\n",
              "    .dataframe tbody tr th:only-of-type {\n",
              "        vertical-align: middle;\n",
              "    }\n",
              "\n",
              "    .dataframe tbody tr th {\n",
              "        vertical-align: top;\n",
              "    }\n",
              "\n",
              "    .dataframe thead th {\n",
              "        text-align: right;\n",
              "    }\n",
              "</style>\n",
              "<table border=\"1\" class=\"dataframe\">\n",
              "  <thead>\n",
              "    <tr style=\"text-align: right;\">\n",
              "      <th></th>\n",
              "      <th>PubChem_CID</th>\n",
              "      <th>Compound</th>\n",
              "      <th>SMILES</th>\n",
              "      <th>Heavy_Atom</th>\n",
              "      <th>Rotat_Bond</th>\n",
              "      <th>Mol_Mass</th>\n",
              "      <th>H_Donor</th>\n",
              "      <th>H_Acceptor</th>\n",
              "      <th>XLogP</th>\n",
              "      <th>Fingerprint</th>\n",
              "      <th>IC50_min</th>\n",
              "      <th>IC50_max</th>\n",
              "      <th>IC50_med</th>\n",
              "    </tr>\n",
              "  </thead>\n",
              "  <tbody>\n",
              "    <tr>\n",
              "      <th>0</th>\n",
              "      <td>162350</td>\n",
              "      <td>Apigenin-6-C-glucoside</td>\n",
              "      <td>C1=CC(=CC=C1C2=CC(=O)C3=C(O2)C=C(C(=C3O)C4C(C(...</td>\n",
              "      <td>31</td>\n",
              "      <td>3</td>\n",
              "      <td>432.105652</td>\n",
              "      <td>7</td>\n",
              "      <td>10</td>\n",
              "      <td>0.2</td>\n",
              "      <td>1110000001111000001111000000000000000000000000...</td>\n",
              "      <td>50.0</td>\n",
              "      <td>50.0</td>\n",
              "      <td>50.000</td>\n",
              "    </tr>\n",
              "    <tr>\n",
              "      <th>1</th>\n",
              "      <td>72276</td>\n",
              "      <td>Epicatechin</td>\n",
              "      <td>C1C(C(OC2=CC(=CC(=C21)O)O)C3=CC(=C(C=C3)O)O)O</td>\n",
              "      <td>21</td>\n",
              "      <td>1</td>\n",
              "      <td>290.079041</td>\n",
              "      <td>5</td>\n",
              "      <td>6</td>\n",
              "      <td>0.4</td>\n",
              "      <td>1100000001110000001110000000000000000000000000...</td>\n",
              "      <td>25.0</td>\n",
              "      <td>184.1</td>\n",
              "      <td>25.000</td>\n",
              "    </tr>\n",
              "    <tr>\n",
              "      <th>2</th>\n",
              "      <td>5280863</td>\n",
              "      <td>Kaempferol</td>\n",
              "      <td>C1=CC(=CC=C1C2=C(C(=O)C3=C(C=C(C=C3O2)O)O)O)O</td>\n",
              "      <td>21</td>\n",
              "      <td>1</td>\n",
              "      <td>286.047729</td>\n",
              "      <td>4</td>\n",
              "      <td>6</td>\n",
              "      <td>1.9</td>\n",
              "      <td>1100000001110000001110000000000000000000000000...</td>\n",
              "      <td>10.0</td>\n",
              "      <td>400.0</td>\n",
              "      <td>53.685</td>\n",
              "    </tr>\n",
              "    <tr>\n",
              "      <th>3</th>\n",
              "      <td>5280343</td>\n",
              "      <td>Quercetin</td>\n",
              "      <td>C1=CC(=C(C=C1C2=C(C(=O)C3=C(C=C(C=C3O2)O)O)O)O)O</td>\n",
              "      <td>22</td>\n",
              "      <td>1</td>\n",
              "      <td>302.042664</td>\n",
              "      <td>5</td>\n",
              "      <td>7</td>\n",
              "      <td>1.5</td>\n",
              "      <td>1100000001110000001110000000000000000000000000...</td>\n",
              "      <td>2.5</td>\n",
              "      <td>177.5</td>\n",
              "      <td>23.000</td>\n",
              "    </tr>\n",
              "    <tr>\n",
              "      <th>4</th>\n",
              "      <td>5280804</td>\n",
              "      <td>Quercetin 3-O-glucoside</td>\n",
              "      <td>C1=CC(=C(C=C1C2=C(C(=O)C3=C(C=C(C=C3O2)O)O)OC4...</td>\n",
              "      <td>33</td>\n",
              "      <td>4</td>\n",
              "      <td>464.095490</td>\n",
              "      <td>8</td>\n",
              "      <td>12</td>\n",
              "      <td>0.4</td>\n",
              "      <td>1110000001111000001111000000000000000000000000...</td>\n",
              "      <td>10.0</td>\n",
              "      <td>10.0</td>\n",
              "      <td>10.000</td>\n",
              "    </tr>\n",
              "  </tbody>\n",
              "</table>\n",
              "</div>\n",
              "      <button class=\"colab-df-convert\" onclick=\"convertToInteractive('df-7574e335-f6a3-4903-9870-abd46a3261a2')\"\n",
              "              title=\"Convert this dataframe to an interactive table.\"\n",
              "              style=\"display:none;\">\n",
              "        \n",
              "  <svg xmlns=\"http://www.w3.org/2000/svg\" height=\"24px\"viewBox=\"0 0 24 24\"\n",
              "       width=\"24px\">\n",
              "    <path d=\"M0 0h24v24H0V0z\" fill=\"none\"/>\n",
              "    <path d=\"M18.56 5.44l.94 2.06.94-2.06 2.06-.94-2.06-.94-.94-2.06-.94 2.06-2.06.94zm-11 1L8.5 8.5l.94-2.06 2.06-.94-2.06-.94L8.5 2.5l-.94 2.06-2.06.94zm10 10l.94 2.06.94-2.06 2.06-.94-2.06-.94-.94-2.06-.94 2.06-2.06.94z\"/><path d=\"M17.41 7.96l-1.37-1.37c-.4-.4-.92-.59-1.43-.59-.52 0-1.04.2-1.43.59L10.3 9.45l-7.72 7.72c-.78.78-.78 2.05 0 2.83L4 21.41c.39.39.9.59 1.41.59.51 0 1.02-.2 1.41-.59l7.78-7.78 2.81-2.81c.8-.78.8-2.07 0-2.86zM5.41 20L4 18.59l7.72-7.72 1.47 1.35L5.41 20z\"/>\n",
              "  </svg>\n",
              "      </button>\n",
              "      \n",
              "  <style>\n",
              "    .colab-df-container {\n",
              "      display:flex;\n",
              "      flex-wrap:wrap;\n",
              "      gap: 12px;\n",
              "    }\n",
              "\n",
              "    .colab-df-convert {\n",
              "      background-color: #E8F0FE;\n",
              "      border: none;\n",
              "      border-radius: 50%;\n",
              "      cursor: pointer;\n",
              "      display: none;\n",
              "      fill: #1967D2;\n",
              "      height: 32px;\n",
              "      padding: 0 0 0 0;\n",
              "      width: 32px;\n",
              "    }\n",
              "\n",
              "    .colab-df-convert:hover {\n",
              "      background-color: #E2EBFA;\n",
              "      box-shadow: 0px 1px 2px rgba(60, 64, 67, 0.3), 0px 1px 3px 1px rgba(60, 64, 67, 0.15);\n",
              "      fill: #174EA6;\n",
              "    }\n",
              "\n",
              "    [theme=dark] .colab-df-convert {\n",
              "      background-color: #3B4455;\n",
              "      fill: #D2E3FC;\n",
              "    }\n",
              "\n",
              "    [theme=dark] .colab-df-convert:hover {\n",
              "      background-color: #434B5C;\n",
              "      box-shadow: 0px 1px 3px 1px rgba(0, 0, 0, 0.15);\n",
              "      filter: drop-shadow(0px 1px 2px rgba(0, 0, 0, 0.3));\n",
              "      fill: #FFFFFF;\n",
              "    }\n",
              "  </style>\n",
              "\n",
              "      <script>\n",
              "        const buttonEl =\n",
              "          document.querySelector('#df-7574e335-f6a3-4903-9870-abd46a3261a2 button.colab-df-convert');\n",
              "        buttonEl.style.display =\n",
              "          google.colab.kernel.accessAllowed ? 'block' : 'none';\n",
              "\n",
              "        async function convertToInteractive(key) {\n",
              "          const element = document.querySelector('#df-7574e335-f6a3-4903-9870-abd46a3261a2');\n",
              "          const dataTable =\n",
              "            await google.colab.kernel.invokeFunction('convertToInteractive',\n",
              "                                                     [key], {});\n",
              "          if (!dataTable) return;\n",
              "\n",
              "          const docLinkHtml = 'Like what you see? Visit the ' +\n",
              "            '<a target=\"_blank\" href=https://colab.research.google.com/notebooks/data_table.ipynb>data table notebook</a>'\n",
              "            + ' to learn more about interactive tables.';\n",
              "          element.innerHTML = '';\n",
              "          dataTable['output_type'] = 'display_data';\n",
              "          await google.colab.output.renderOutput(dataTable, element);\n",
              "          const docLink = document.createElement('div');\n",
              "          docLink.innerHTML = docLinkHtml;\n",
              "          element.appendChild(docLink);\n",
              "        }\n",
              "      </script>\n",
              "    </div>\n",
              "  </div>\n",
              "  "
            ],
            "text/plain": [
              "   PubChem_CID                 Compound  ... IC50_max  IC50_med\n",
              "0       162350   Apigenin-6-C-glucoside  ...     50.0    50.000\n",
              "1        72276              Epicatechin  ...    184.1    25.000\n",
              "2      5280863               Kaempferol  ...    400.0    53.685\n",
              "3      5280343                Quercetin  ...    177.5    23.000\n",
              "4      5280804  Quercetin 3-O-glucoside  ...     10.0    10.000\n",
              "\n",
              "[5 rows x 13 columns]"
            ]
          },
          "metadata": {},
          "execution_count": 2
        }
      ]
    },
    {
      "cell_type": "markdown",
      "source": [
        "## Data Preprocessing"
      ],
      "metadata": {
        "id": "H7Y7OUNfmTW0"
      }
    },
    {
      "cell_type": "markdown",
      "source": [
        "### Conversion from IC50 to pIC50"
      ],
      "metadata": {
        "id": "W_0_y61imWn8"
      }
    },
    {
      "cell_type": "code",
      "source": [
        "sns.histplot(antioxidant_data, x='IC50_med')"
      ],
      "metadata": {
        "colab": {
          "base_uri": "https://localhost:8080/",
          "height": 0
        },
        "id": "OEoyzAzt1oR0",
        "outputId": "b29f4ca5-4c70-4526-c01c-c225de68b5de"
      },
      "execution_count": 3,
      "outputs": [
        {
          "output_type": "execute_result",
          "data": {
            "text/plain": [
              "<matplotlib.axes._subplots.AxesSubplot at 0x7f61cfe73910>"
            ]
          },
          "metadata": {},
          "execution_count": 3
        },
        {
          "output_type": "display_data",
          "data": {
            "image/png": "[encoded data removed]",
            "text/plain": [
              "<Figure size 432x288 with 1 Axes>"
            ]
          },
          "metadata": {
            "needs_background": "light"
          }
        }
      ]
    },
    {
      "cell_type": "code",
      "source": [
        "# https://github.com/chaninlab/estrogen-receptor-alpha-qsar/blob/master/02_ER_alpha_RO5.ipynb\n",
        "\n",
        "def pIC50(input, column):\n",
        "    \n",
        "    pIC50 = []\n",
        "    for i in input[column]:\n",
        "      # Converts nM to M\n",
        "      molar = i*(10**-9) \n",
        "      pIC50.append(-np.log10(molar))\n",
        "\n",
        "    input['pIC50'] = pIC50\n",
        "    \n",
        "    # Removing IC50 column\n",
        "    input = input.drop(column, 1)     \n",
        "        \n",
        "    return input"
      ],
      "metadata": {
        "id": "o5R6s8XALs5a"
      },
      "execution_count": 4,
      "outputs": []
    },
    {
      "cell_type": "code",
      "source": [
        "antioxidant_data = pIC50(antioxidant_data, 'IC50_med')"
      ],
      "metadata": {
        "id": "yuI8-vimN9hD"
      },
      "execution_count": 5,
      "outputs": []
    },
    {
      "cell_type": "code",
      "source": [
        "sns.histplot(antioxidant_data, x='pIC50')"
      ],
      "metadata": {
        "colab": {
          "base_uri": "https://localhost:8080/",
          "height": 0
        },
        "id": "zJQppkzlOgTR",
        "outputId": "3fd36121-02ce-4447-9958-a946e47b1038"
      },
      "execution_count": 6,
      "outputs": [
        {
          "output_type": "execute_result",
          "data": {
            "text/plain": [
              "<matplotlib.axes._subplots.AxesSubplot at 0x7f61cfb82b50>"
            ]
          },
          "metadata": {},
          "execution_count": 6
        },
        {
          "output_type": "display_data",
          "data": {
            "image/png": "[encoded data removed]",
            "text/plain": [
              "<Figure size 432x288 with 1 Axes>"
            ]
          },
          "metadata": {
            "needs_background": "light"
          }
        }
      ]
    },
    {
      "cell_type": "markdown",
      "source": [
        "### PaDel Descriptor"
      ],
      "metadata": {
        "id": "dGXnChuLn21k"
      }
    },
    {
      "cell_type": "code",
      "source": [
        "selection = ['SMILES','PubChem_CID']\n",
        "\n",
        "antioxidant_data_selection = antioxidant_data[selection]\n",
        "\n",
        "antioxidant_data_selection.to_csv('molecule.smi', sep='\\t', index=False, header=False)"
      ],
      "metadata": {
        "id": "RpOzfLEPqcMq"
      },
      "execution_count": 7,
      "outputs": []
    },
    {
      "cell_type": "code",
      "source": [
        "! cat molecule.smi | head -5"
      ],
      "metadata": {
        "id": "lxAkCWT_qpHa",
        "colab": {
          "base_uri": "https://localhost:8080/"
        },
        "outputId": "1c768c81-c516-4f4b-b69c-5b4a76e159c0"
      },
      "execution_count": 8,
      "outputs": [
        {
          "output_type": "stream",
          "name": "stdout",
          "text": [
            "C1=CC(=CC=C1C2=CC(=O)C3=C(O2)C=C(C(=C3O)C4C(C(C(C(O4)CO)O)O)O)O)O\t162350\n",
            "C1C(C(OC2=CC(=CC(=C21)O)O)C3=CC(=C(C=C3)O)O)O\t72276\n",
            "C1=CC(=CC=C1C2=C(C(=O)C3=C(C=C(C=C3O2)O)O)O)O\t5280863\n",
            "C1=CC(=C(C=C1C2=C(C(=O)C3=C(C=C(C=C3O2)O)O)O)O)O\t5280343\n",
            "C1=CC(=C(C=C1C2=C(C(=O)C3=C(C=C(C=C3O2)O)O)OC4C(C(C(C(O4)CO)O)O)O)O)O\t5280804\n"
          ]
        }
      ]
    },
    {
      "cell_type": "code",
      "source": [
        "! wget https://github.com/dataprofessor/bioinformatics/raw/master/padel.zip\n",
        "! wget https://github.com/dataprofessor/bioinformatics/raw/master/padel.sh\n",
        "! unzip padel.zip\n",
        "! cat padel.sh\n",
        "! bash padel.sh"
      ],
      "metadata": {
        "id": "4liBUafNnxEk",
        "colab": {
          "base_uri": "https://localhost:8080/"
        },
        "outputId": "14b53e92-91a4-4f22-b734-de0737757b1c"
      },
      "execution_count": 9,
      "outputs": [
        {
          "output_type": "stream",
          "name": "stdout",
          "text": [
            "--2021-12-21 11:54:43--  https://github.com/dataprofessor/bioinformatics/raw/master/padel.zip\n",
            "Resolving github.com (github.com)... 140.82.113.3\n",
            "Connecting to github.com (github.com)|140.82.113.3|:443... connected.\n",
            "HTTP request sent, awaiting response... 302 Found\n",
            "Location: https://raw.githubusercontent.com/dataprofessor/bioinformatics/master/padel.zip [following]\n",
            "--2021-12-21 11:54:43--  https://raw.githubusercontent.com/dataprofessor/bioinformatics/master/padel.zip\n",
            "Resolving raw.githubusercontent.com (raw.githubusercontent.com)... 185.199.108.133, 185.199.109.133, 185.199.110.133, ...\n",
            "Connecting to raw.githubusercontent.com (raw.githubusercontent.com)|185.199.108.133|:443... connected.\n",
            "HTTP request sent, awaiting response... 200 OK\n",
            "Length: 25768637 (25M) [application/zip]\n",
            "Saving to: ‘padel.zip’\n",
            "\n",
            "padel.zip           100%[===================>]  24.57M   136MB/s    in 0.2s    \n",
            "\n",
            "2021-12-21 11:54:44 (136 MB/s) - ‘padel.zip’ saved [25768637/25768637]\n",
            "\n",
            "--2021-12-21 11:54:44--  https://github.com/dataprofessor/bioinformatics/raw/master/padel.sh\n",
            "Resolving github.com (github.com)... 140.82.113.3\n",
            "Connecting to github.com (github.com)|140.82.113.3|:443... connected.\n",
            "HTTP request sent, awaiting response... 302 Found\n",
            "Location: https://raw.githubusercontent.com/dataprofessor/bioinformatics/master/padel.sh [following]\n",
            "--2021-12-21 11:54:44--  https://raw.githubusercontent.com/dataprofessor/bioinformatics/master/padel.sh\n",
            "Resolving raw.githubusercontent.com (raw.githubusercontent.com)... 185.199.108.133, 185.199.109.133, 185.199.110.133, ...\n",
            "Connecting to raw.githubusercontent.com (raw.githubusercontent.com)|185.199.108.133|:443... connected.\n",
            "HTTP request sent, awaiting response... 200 OK\n",
            "Length: 231 [text/plain]\n",
            "Saving to: ‘padel.sh’\n",
            "\n",
            "padel.sh            100%[===================>]     231  --.-KB/s    in 0s      \n",
            "\n",
            "2021-12-21 11:54:44 (10.5 MB/s) - ‘padel.sh’ saved [231/231]\n",
            "\n",
            "Archive:  padel.zip\n",
            "   creating: PaDEL-Descriptor/\n",
            "  inflating: __MACOSX/._PaDEL-Descriptor  \n",
            "  inflating: PaDEL-Descriptor/MACCSFingerprinter.xml  \n",
            "  inflating: __MACOSX/PaDEL-Descriptor/._MACCSFingerprinter.xml  \n",
            "  inflating: PaDEL-Descriptor/AtomPairs2DFingerprinter.xml  \n",
            "  inflating: __MACOSX/PaDEL-Descriptor/._AtomPairs2DFingerprinter.xml  \n",
            "  inflating: PaDEL-Descriptor/EStateFingerprinter.xml  \n",
            "  inflating: __MACOSX/PaDEL-Descriptor/._EStateFingerprinter.xml  \n",
            "  inflating: PaDEL-Descriptor/Fingerprinter.xml  \n",
            "  inflating: __MACOSX/PaDEL-Descriptor/._Fingerprinter.xml  \n",
            "  inflating: PaDEL-Descriptor/.DS_Store  \n",
            "  inflating: __MACOSX/PaDEL-Descriptor/._.DS_Store  \n",
            "   creating: PaDEL-Descriptor/license/\n",
            "  inflating: __MACOSX/PaDEL-Descriptor/._license  \n",
            "  inflating: PaDEL-Descriptor/KlekotaRothFingerprintCount.xml  \n",
            "  inflating: __MACOSX/PaDEL-Descriptor/._KlekotaRothFingerprintCount.xml  \n",
            "  inflating: PaDEL-Descriptor/config  \n",
            "  inflating: __MACOSX/PaDEL-Descriptor/._config  \n",
            "  inflating: PaDEL-Descriptor/PubchemFingerprinter.xml  \n",
            "  inflating: __MACOSX/PaDEL-Descriptor/._PubchemFingerprinter.xml  \n",
            "  inflating: PaDEL-Descriptor/ExtendedFingerprinter.xml  \n",
            "  inflating: __MACOSX/PaDEL-Descriptor/._ExtendedFingerprinter.xml  \n",
            "  inflating: PaDEL-Descriptor/KlekotaRothFingerprinter.xml  \n",
            "  inflating: __MACOSX/PaDEL-Descriptor/._KlekotaRothFingerprinter.xml  \n",
            "  inflating: PaDEL-Descriptor/GraphOnlyFingerprinter.xml  \n",
            "  inflating: __MACOSX/PaDEL-Descriptor/._GraphOnlyFingerprinter.xml  \n",
            "  inflating: PaDEL-Descriptor/SubstructureFingerprinter.xml  \n",
            "  inflating: __MACOSX/PaDEL-Descriptor/._SubstructureFingerprinter.xml  \n",
            "  inflating: PaDEL-Descriptor/Descriptors.xls  \n",
            "  inflating: __MACOSX/PaDEL-Descriptor/._Descriptors.xls  \n",
            "   creating: PaDEL-Descriptor/lib/\n",
            "  inflating: __MACOSX/PaDEL-Descriptor/._lib  \n",
            "  inflating: PaDEL-Descriptor/PaDEL-Descriptor.jar  \n",
            "  inflating: __MACOSX/PaDEL-Descriptor/._PaDEL-Descriptor.jar  \n",
            "  inflating: PaDEL-Descriptor/SubstructureFingerprintCount.xml  \n",
            "  inflating: __MACOSX/PaDEL-Descriptor/._SubstructureFingerprintCount.xml  \n",
            "  inflating: PaDEL-Descriptor/AtomPairs2DFingerprintCount.xml  \n",
            "  inflating: __MACOSX/PaDEL-Descriptor/._AtomPairs2DFingerprintCount.xml  \n",
            "  inflating: PaDEL-Descriptor/descriptors.xml  \n",
            "  inflating: __MACOSX/PaDEL-Descriptor/._descriptors.xml  \n",
            "  inflating: PaDEL-Descriptor/license/lgpl-2.1.txt  \n",
            "  inflating: __MACOSX/PaDEL-Descriptor/license/._lgpl-2.1.txt  \n",
            "  inflating: PaDEL-Descriptor/license/LICENSE.txt  \n",
            "  inflating: __MACOSX/PaDEL-Descriptor/license/._LICENSE.txt  \n",
            "  inflating: PaDEL-Descriptor/license/README - CDK  \n",
            "  inflating: __MACOSX/PaDEL-Descriptor/license/._README - CDK  \n",
            "  inflating: PaDEL-Descriptor/license/lgpl.license  \n",
            "  inflating: __MACOSX/PaDEL-Descriptor/license/._lgpl.license  \n",
            "  inflating: PaDEL-Descriptor/lib/ambit2-core-2.4.7-SNAPSHOT(3).jar  \n",
            "  inflating: __MACOSX/PaDEL-Descriptor/lib/._ambit2-core-2.4.7-SNAPSHOT(3).jar  \n",
            "  inflating: PaDEL-Descriptor/lib/libPaDEL-Jobs(6).jar  \n",
            "  inflating: __MACOSX/PaDEL-Descriptor/lib/._libPaDEL-Jobs(6).jar  \n",
            "  inflating: PaDEL-Descriptor/lib/libPaDEL.jar  \n",
            "  inflating: __MACOSX/PaDEL-Descriptor/lib/._libPaDEL.jar  \n",
            "  inflating: PaDEL-Descriptor/lib/jgrapht-0.6.0(4).jar  \n",
            "  inflating: __MACOSX/PaDEL-Descriptor/lib/._jgrapht-0.6.0(4).jar  \n",
            "  inflating: PaDEL-Descriptor/lib/commons-cli-1.2(2).jar  \n",
            "  inflating: __MACOSX/PaDEL-Descriptor/lib/._commons-cli-1.2(2).jar  \n",
            "  inflating: PaDEL-Descriptor/lib/xom-1.1(1).jar  \n",
            "  inflating: __MACOSX/PaDEL-Descriptor/lib/._xom-1.1(1).jar  \n",
            "  inflating: PaDEL-Descriptor/lib/swing-worker-1.1.jar  \n",
            "  inflating: __MACOSX/PaDEL-Descriptor/lib/._swing-worker-1.1.jar  \n",
            "  inflating: PaDEL-Descriptor/lib/commons-cli-1.2(3).jar  \n",
            "  inflating: __MACOSX/PaDEL-Descriptor/lib/._commons-cli-1.2(3).jar  \n",
            "  inflating: PaDEL-Descriptor/lib/jgrapht-0.6.0(5).jar  \n",
            "  inflating: __MACOSX/PaDEL-Descriptor/lib/._jgrapht-0.6.0(5).jar  \n",
            "  inflating: PaDEL-Descriptor/lib/jama(1).jar  \n",
            "  inflating: __MACOSX/PaDEL-Descriptor/lib/._jama(1).jar  \n",
            "  inflating: PaDEL-Descriptor/lib/appframework-1.0.3.jar  \n",
            "  inflating: __MACOSX/PaDEL-Descriptor/lib/._appframework-1.0.3.jar  \n",
            "  inflating: PaDEL-Descriptor/lib/libPaDEL-Jobs(7).jar  \n",
            "  inflating: __MACOSX/PaDEL-Descriptor/lib/._libPaDEL-Jobs(7).jar  \n",
            "  inflating: PaDEL-Descriptor/lib/vecmath1.2-1.14.jar  \n",
            "  inflating: __MACOSX/PaDEL-Descriptor/lib/._vecmath1.2-1.14.jar  \n",
            "  inflating: PaDEL-Descriptor/lib/ambit2-smarts-2.4.7-SNAPSHOT(6).jar  \n",
            "  inflating: __MACOSX/PaDEL-Descriptor/lib/._ambit2-smarts-2.4.7-SNAPSHOT(6).jar  \n",
            "  inflating: PaDEL-Descriptor/lib/ambit2-core-2.4.7-SNAPSHOT(2).jar  \n",
            "  inflating: __MACOSX/PaDEL-Descriptor/lib/._ambit2-core-2.4.7-SNAPSHOT(2).jar  \n",
            "  inflating: PaDEL-Descriptor/lib/jama(6).jar  \n",
            "  inflating: __MACOSX/PaDEL-Descriptor/lib/._jama(6).jar  \n",
            "  inflating: PaDEL-Descriptor/lib/jgrapht-0.6.0(2).jar  \n",
            "  inflating: __MACOSX/PaDEL-Descriptor/lib/._jgrapht-0.6.0(2).jar  \n",
            "  inflating: PaDEL-Descriptor/lib/libPaDEL-Descriptor(3).jar  \n",
            "  inflating: __MACOSX/PaDEL-Descriptor/lib/._libPaDEL-Descriptor(3).jar  \n",
            "  inflating: PaDEL-Descriptor/lib/commons-cli-1.2(4).jar  \n",
            "  inflating: __MACOSX/PaDEL-Descriptor/lib/._commons-cli-1.2(4).jar  \n",
            "  inflating: PaDEL-Descriptor/lib/ambit2-base-2.4.7-SNAPSHOT.jar  \n",
            "  inflating: __MACOSX/PaDEL-Descriptor/lib/._ambit2-base-2.4.7-SNAPSHOT.jar  \n",
            "  inflating: PaDEL-Descriptor/lib/ambit2-smarts-2.4.7-SNAPSHOT(1).jar  \n",
            "  inflating: __MACOSX/PaDEL-Descriptor/lib/._ambit2-smarts-2.4.7-SNAPSHOT(1).jar  \n",
            "  inflating: PaDEL-Descriptor/lib/commons-cli-1.2.jar  \n",
            "  inflating: __MACOSX/PaDEL-Descriptor/lib/._commons-cli-1.2.jar  \n",
            "  inflating: PaDEL-Descriptor/lib/commons-cli-1.2(8).jar  \n",
            "  inflating: __MACOSX/PaDEL-Descriptor/lib/._commons-cli-1.2(8).jar  \n",
            "  inflating: PaDEL-Descriptor/lib/jgrapht-0.6.0.jar  \n",
            "  inflating: __MACOSX/PaDEL-Descriptor/lib/._jgrapht-0.6.0.jar  \n",
            "  inflating: PaDEL-Descriptor/lib/libPaDEL-Jobs(1).jar  \n",
            "  inflating: __MACOSX/PaDEL-Descriptor/lib/._libPaDEL-Jobs(1).jar  \n",
            "  inflating: PaDEL-Descriptor/lib/libPaDEL-Jobs.jar  \n",
            "  inflating: __MACOSX/PaDEL-Descriptor/lib/._libPaDEL-Jobs.jar  \n",
            "  inflating: PaDEL-Descriptor/lib/ambit2-core-2.4.7-SNAPSHOT(4).jar  \n",
            "  inflating: __MACOSX/PaDEL-Descriptor/lib/._ambit2-core-2.4.7-SNAPSHOT(4).jar  \n",
            "  inflating: PaDEL-Descriptor/lib/xom-1.1.jar  \n",
            "  inflating: __MACOSX/PaDEL-Descriptor/lib/._xom-1.1.jar  \n",
            "  inflating: PaDEL-Descriptor/lib/commons-cli-1.2(5).jar  \n",
            "  inflating: __MACOSX/PaDEL-Descriptor/lib/._commons-cli-1.2(5).jar  \n",
            "  inflating: PaDEL-Descriptor/lib/libPaDEL-Descriptor(2).jar  \n",
            "  inflating: __MACOSX/PaDEL-Descriptor/lib/._libPaDEL-Descriptor(2).jar  \n",
            "  inflating: PaDEL-Descriptor/lib/jgrapht-0.6.0(3).jar  \n",
            "  inflating: __MACOSX/PaDEL-Descriptor/lib/._jgrapht-0.6.0(3).jar  \n",
            "  inflating: PaDEL-Descriptor/lib/jama(7).jar  \n",
            "  inflating: __MACOSX/PaDEL-Descriptor/lib/._jama(7).jar  \n",
            "  inflating: PaDEL-Descriptor/lib/ambit2-core-2.4.7-SNAPSHOT.jar  \n",
            "  inflating: __MACOSX/PaDEL-Descriptor/lib/._ambit2-core-2.4.7-SNAPSHOT.jar  \n",
            "  inflating: PaDEL-Descriptor/lib/commons-cli-1.2(6).jar  \n",
            "  inflating: __MACOSX/PaDEL-Descriptor/lib/._commons-cli-1.2(6).jar  \n",
            "  inflating: PaDEL-Descriptor/lib/libPaDEL-Descriptor(1).jar  \n",
            "  inflating: __MACOSX/PaDEL-Descriptor/lib/._libPaDEL-Descriptor(1).jar  \n",
            "  inflating: PaDEL-Descriptor/lib/jama(4).jar  \n",
            "  inflating: __MACOSX/PaDEL-Descriptor/lib/._jama(4).jar  \n",
            "  inflating: PaDEL-Descriptor/lib/libPaDEL-Jobs(2).jar  \n",
            "  inflating: __MACOSX/PaDEL-Descriptor/lib/._libPaDEL-Jobs(2).jar  \n",
            "  inflating: PaDEL-Descriptor/lib/ambit2-smarts-2.4.7-SNAPSHOT(3).jar  \n",
            "  inflating: __MACOSX/PaDEL-Descriptor/lib/._ambit2-smarts-2.4.7-SNAPSHOT(3).jar  \n",
            "  inflating: PaDEL-Descriptor/lib/ambit2-smarts-2.4.7-SNAPSHOT(2).jar  \n",
            "  inflating: __MACOSX/PaDEL-Descriptor/lib/._ambit2-smarts-2.4.7-SNAPSHOT(2).jar  \n",
            "  inflating: PaDEL-Descriptor/lib/ambit2-smarts-2.4.7-SNAPSHOT.jar  \n",
            "  inflating: __MACOSX/PaDEL-Descriptor/lib/._ambit2-smarts-2.4.7-SNAPSHOT.jar  \n",
            "  inflating: PaDEL-Descriptor/lib/libPaDEL-Jobs(3).jar  \n",
            "  inflating: __MACOSX/PaDEL-Descriptor/lib/._libPaDEL-Jobs(3).jar  \n",
            "  inflating: PaDEL-Descriptor/lib/l2fprod-common-all(1).jar  \n",
            "  inflating: __MACOSX/PaDEL-Descriptor/lib/._l2fprod-common-all(1).jar  \n",
            "  inflating: PaDEL-Descriptor/lib/jama.jar  \n",
            "  inflating: __MACOSX/PaDEL-Descriptor/lib/._jama.jar  \n",
            "  inflating: PaDEL-Descriptor/lib/l2fprod-common-all.jar  \n",
            "  inflating: __MACOSX/PaDEL-Descriptor/lib/._l2fprod-common-all.jar  \n",
            "  inflating: PaDEL-Descriptor/lib/jama(5).jar  \n",
            "  inflating: __MACOSX/PaDEL-Descriptor/lib/._jama(5).jar  \n",
            "  inflating: PaDEL-Descriptor/lib/jgrapht-0.6.0(1).jar  \n",
            "  inflating: __MACOSX/PaDEL-Descriptor/lib/._jgrapht-0.6.0(1).jar  \n",
            "  inflating: PaDEL-Descriptor/lib/commons-cli-1.2(7).jar  \n",
            "  inflating: __MACOSX/PaDEL-Descriptor/lib/._commons-cli-1.2(7).jar  \n",
            "  inflating: PaDEL-Descriptor/lib/libPaDEL-Descriptor.jar  \n",
            "  inflating: __MACOSX/PaDEL-Descriptor/lib/._libPaDEL-Descriptor.jar  \n",
            "  inflating: PaDEL-Descriptor/lib/libPaDEL-Jobs(4).jar  \n",
            "  inflating: __MACOSX/PaDEL-Descriptor/lib/._libPaDEL-Jobs(4).jar  \n",
            "  inflating: PaDEL-Descriptor/lib/cdk-1.4.15.jar  \n",
            "  inflating: __MACOSX/PaDEL-Descriptor/lib/._cdk-1.4.15.jar  \n",
            "  inflating: PaDEL-Descriptor/lib/ambit2-smarts-2.4.7-SNAPSHOT(5).jar  \n",
            "  inflating: __MACOSX/PaDEL-Descriptor/lib/._ambit2-smarts-2.4.7-SNAPSHOT(5).jar  \n",
            "  inflating: PaDEL-Descriptor/lib/ambit2-core-2.4.7-SNAPSHOT(1).jar  \n",
            "  inflating: __MACOSX/PaDEL-Descriptor/lib/._ambit2-core-2.4.7-SNAPSHOT(1).jar  \n",
            "  inflating: PaDEL-Descriptor/lib/libPaDEL-Jobs(8).jar  \n",
            "  inflating: __MACOSX/PaDEL-Descriptor/lib/._libPaDEL-Jobs(8).jar  \n",
            "  inflating: PaDEL-Descriptor/lib/jgrapht-0.6.0(6).jar  \n",
            "  inflating: __MACOSX/PaDEL-Descriptor/lib/._jgrapht-0.6.0(6).jar  \n",
            "  inflating: PaDEL-Descriptor/lib/jama(2).jar  \n",
            "  inflating: __MACOSX/PaDEL-Descriptor/lib/._jama(2).jar  \n",
            "  inflating: PaDEL-Descriptor/lib/jama(3).jar  \n",
            "  inflating: __MACOSX/PaDEL-Descriptor/lib/._jama(3).jar  \n",
            "  inflating: PaDEL-Descriptor/lib/commons-cli-1.2(1).jar  \n",
            "  inflating: __MACOSX/PaDEL-Descriptor/lib/._commons-cli-1.2(1).jar  \n",
            "  inflating: PaDEL-Descriptor/lib/guava-17.0.jar  \n",
            "  inflating: __MACOSX/PaDEL-Descriptor/lib/._guava-17.0.jar  \n",
            "  inflating: PaDEL-Descriptor/lib/ambit2-smarts-2.4.7-SNAPSHOT(4).jar  \n",
            "  inflating: __MACOSX/PaDEL-Descriptor/lib/._ambit2-smarts-2.4.7-SNAPSHOT(4).jar  \n",
            "  inflating: PaDEL-Descriptor/lib/libPaDEL-Jobs(5).jar  \n",
            "  inflating: __MACOSX/PaDEL-Descriptor/lib/._libPaDEL-Jobs(5).jar  \n",
            "java -Xms1G -Xmx1G -Djava.awt.headless=true -jar ./PaDEL-Descriptor/PaDEL-Descriptor.jar -removesalt -standardizenitro -fingerprints -descriptortypes ./PaDEL-Descriptor/PubchemFingerprinter.xml -dir ./ -file descriptors_output.csv\n",
            "Processing 162350 in molecule.smi (1/16). \n",
            "Processing 72276 in molecule.smi (2/16). \n",
            "Processing 5280863 in molecule.smi (3/16). Average speed: 2.17 s/mol.\n",
            "Processing 5280343 in molecule.smi (4/16). Average speed: 1.09 s/mol.\n",
            "Processing 5280804 in molecule.smi (5/16). Average speed: 0.92 s/mol.\n",
            "Processing 160597 in molecule.smi (6/16). Average speed: 0.71 s/mol.\n",
            "Processing 637760 in molecule.smi (7/16). Average speed: 0.73 s/mol.\n",
            "Processing 3469 in molecule.smi (9/16). Average speed: 0.58 s/mol.\n",
            "Processing 689043 in molecule.smi (8/16). Average speed: 0.63 s/mol.\n",
            "Processing 7428 in molecule.smi (10/16). Average speed: 0.52 s/mol.\n",
            "Processing 439501 in molecule.smi (11/16). Average speed: 0.47 s/mol.\n",
            "Processing 370 in molecule.smi (12/16). Average speed: 0.45 s/mol.\n",
            "Processing 445354 in molecule.smi (13/16). Average speed: 0.42 s/mol.\n",
            "Processing 14985 in molecule.smi (14/16). Average speed: 0.42 s/mol.\n",
            "Processing 54670067 in molecule.smi (15/16). Average speed: 0.51 s/mol.\n",
            "Processing 10143 in molecule.smi (16/16). Average speed: 0.44 s/mol.\n",
            "Descriptor calculation completed in 6.722 secs . Average speed: 0.42 s/mol.\n"
          ]
        }
      ]
    },
    {
      "cell_type": "code",
      "source": [
        "padel_desc = pd.read_csv('descriptors_output.csv')\n",
        "X_padel = padel_desc.drop(columns=['Name'])\n",
        "X_padel.head()"
      ],
      "metadata": {
        "id": "vDii-QhXqSBi",
        "colab": {
          "base_uri": "https://localhost:8080/",
          "height": 0
        },
        "outputId": "0dfcdb93-7812-40f1-bb5d-6c3494f4f621"
      },
      "execution_count": 10,
      "outputs": [
        {
          "output_type": "execute_result",
          "data": {
            "text/html": [
              "\n",
              "  <div id=\"df-cbfb7799-26eb-43ca-89c7-de6be58265a7\">\n",
              "    <div class=\"colab-df-container\">\n",
              "      <div>\n",
              "<style scoped>\n",
              "    .dataframe tbody tr th:only-of-type {\n",
              "        vertical-align: middle;\n",
              "    }\n",
              "\n",
              "    .dataframe tbody tr th {\n",
              "        vertical-align: top;\n",
              "    }\n",
              "\n",
              "    .dataframe thead th {\n",
              "        text-align: right;\n",
              "    }\n",
              "</style>\n",
              "<table border=\"1\" class=\"dataframe\">\n",
              "  <thead>\n",
              "    <tr style=\"text-align: right;\">\n",
              "      <th></th>\n",
              "      <th>PubchemFP0</th>\n",
              "      <th>PubchemFP1</th>\n",
              "      <th>PubchemFP2</th>\n",
              "      <th>PubchemFP3</th>\n",
              "      <th>PubchemFP4</th>\n",
              "      <th>PubchemFP5</th>\n",
              "      <th>PubchemFP6</th>\n",
              "      <th>PubchemFP7</th>\n",
              "      <th>PubchemFP8</th>\n",
              "      <th>PubchemFP9</th>\n",
              "      <th>PubchemFP10</th>\n",
              "      <th>PubchemFP11</th>\n",
              "      <th>PubchemFP12</th>\n",
              "      <th>PubchemFP13</th>\n",
              "      <th>PubchemFP14</th>\n",
              "      <th>PubchemFP15</th>\n",
              "      <th>PubchemFP16</th>\n",
              "      <th>PubchemFP17</th>\n",
              "      <th>PubchemFP18</th>\n",
              "      <th>PubchemFP19</th>\n",
              "      <th>PubchemFP20</th>\n",
              "      <th>PubchemFP21</th>\n",
              "      <th>PubchemFP22</th>\n",
              "      <th>PubchemFP23</th>\n",
              "      <th>PubchemFP24</th>\n",
              "      <th>PubchemFP25</th>\n",
              "      <th>PubchemFP26</th>\n",
              "      <th>PubchemFP27</th>\n",
              "      <th>PubchemFP28</th>\n",
              "      <th>PubchemFP29</th>\n",
              "      <th>PubchemFP30</th>\n",
              "      <th>PubchemFP31</th>\n",
              "      <th>PubchemFP32</th>\n",
              "      <th>PubchemFP33</th>\n",
              "      <th>PubchemFP34</th>\n",
              "      <th>PubchemFP35</th>\n",
              "      <th>PubchemFP36</th>\n",
              "      <th>PubchemFP37</th>\n",
              "      <th>PubchemFP38</th>\n",
              "      <th>PubchemFP39</th>\n",
              "      <th>...</th>\n",
              "      <th>PubchemFP841</th>\n",
              "      <th>PubchemFP842</th>\n",
              "      <th>PubchemFP843</th>\n",
              "      <th>PubchemFP844</th>\n",
              "      <th>PubchemFP845</th>\n",
              "      <th>PubchemFP846</th>\n",
              "      <th>PubchemFP847</th>\n",
              "      <th>PubchemFP848</th>\n",
              "      <th>PubchemFP849</th>\n",
              "      <th>PubchemFP850</th>\n",
              "      <th>PubchemFP851</th>\n",
              "      <th>PubchemFP852</th>\n",
              "      <th>PubchemFP853</th>\n",
              "      <th>PubchemFP854</th>\n",
              "      <th>PubchemFP855</th>\n",
              "      <th>PubchemFP856</th>\n",
              "      <th>PubchemFP857</th>\n",
              "      <th>PubchemFP858</th>\n",
              "      <th>PubchemFP859</th>\n",
              "      <th>PubchemFP860</th>\n",
              "      <th>PubchemFP861</th>\n",
              "      <th>PubchemFP862</th>\n",
              "      <th>PubchemFP863</th>\n",
              "      <th>PubchemFP864</th>\n",
              "      <th>PubchemFP865</th>\n",
              "      <th>PubchemFP866</th>\n",
              "      <th>PubchemFP867</th>\n",
              "      <th>PubchemFP868</th>\n",
              "      <th>PubchemFP869</th>\n",
              "      <th>PubchemFP870</th>\n",
              "      <th>PubchemFP871</th>\n",
              "      <th>PubchemFP872</th>\n",
              "      <th>PubchemFP873</th>\n",
              "      <th>PubchemFP874</th>\n",
              "      <th>PubchemFP875</th>\n",
              "      <th>PubchemFP876</th>\n",
              "      <th>PubchemFP877</th>\n",
              "      <th>PubchemFP878</th>\n",
              "      <th>PubchemFP879</th>\n",
              "      <th>PubchemFP880</th>\n",
              "    </tr>\n",
              "  </thead>\n",
              "  <tbody>\n",
              "    <tr>\n",
              "      <th>0</th>\n",
              "      <td>1</td>\n",
              "      <td>1</td>\n",
              "      <td>1</td>\n",
              "      <td>0</td>\n",
              "      <td>0</td>\n",
              "      <td>0</td>\n",
              "      <td>0</td>\n",
              "      <td>0</td>\n",
              "      <td>0</td>\n",
              "      <td>1</td>\n",
              "      <td>1</td>\n",
              "      <td>1</td>\n",
              "      <td>1</td>\n",
              "      <td>0</td>\n",
              "      <td>0</td>\n",
              "      <td>0</td>\n",
              "      <td>0</td>\n",
              "      <td>0</td>\n",
              "      <td>1</td>\n",
              "      <td>1</td>\n",
              "      <td>1</td>\n",
              "      <td>1</td>\n",
              "      <td>0</td>\n",
              "      <td>0</td>\n",
              "      <td>0</td>\n",
              "      <td>0</td>\n",
              "      <td>0</td>\n",
              "      <td>0</td>\n",
              "      <td>0</td>\n",
              "      <td>0</td>\n",
              "      <td>0</td>\n",
              "      <td>0</td>\n",
              "      <td>0</td>\n",
              "      <td>0</td>\n",
              "      <td>0</td>\n",
              "      <td>0</td>\n",
              "      <td>0</td>\n",
              "      <td>0</td>\n",
              "      <td>0</td>\n",
              "      <td>0</td>\n",
              "      <td>...</td>\n",
              "      <td>0</td>\n",
              "      <td>0</td>\n",
              "      <td>0</td>\n",
              "      <td>0</td>\n",
              "      <td>0</td>\n",
              "      <td>0</td>\n",
              "      <td>0</td>\n",
              "      <td>0</td>\n",
              "      <td>0</td>\n",
              "      <td>0</td>\n",
              "      <td>0</td>\n",
              "      <td>0</td>\n",
              "      <td>0</td>\n",
              "      <td>0</td>\n",
              "      <td>0</td>\n",
              "      <td>0</td>\n",
              "      <td>0</td>\n",
              "      <td>0</td>\n",
              "      <td>0</td>\n",
              "      <td>0</td>\n",
              "      <td>0</td>\n",
              "      <td>0</td>\n",
              "      <td>0</td>\n",
              "      <td>0</td>\n",
              "      <td>0</td>\n",
              "      <td>0</td>\n",
              "      <td>0</td>\n",
              "      <td>0</td>\n",
              "      <td>0</td>\n",
              "      <td>0</td>\n",
              "      <td>0</td>\n",
              "      <td>0</td>\n",
              "      <td>0</td>\n",
              "      <td>0</td>\n",
              "      <td>0</td>\n",
              "      <td>0</td>\n",
              "      <td>0</td>\n",
              "      <td>0</td>\n",
              "      <td>0</td>\n",
              "      <td>0</td>\n",
              "    </tr>\n",
              "    <tr>\n",
              "      <th>1</th>\n",
              "      <td>1</td>\n",
              "      <td>1</td>\n",
              "      <td>0</td>\n",
              "      <td>0</td>\n",
              "      <td>0</td>\n",
              "      <td>0</td>\n",
              "      <td>0</td>\n",
              "      <td>0</td>\n",
              "      <td>0</td>\n",
              "      <td>1</td>\n",
              "      <td>1</td>\n",
              "      <td>1</td>\n",
              "      <td>0</td>\n",
              "      <td>0</td>\n",
              "      <td>0</td>\n",
              "      <td>0</td>\n",
              "      <td>0</td>\n",
              "      <td>0</td>\n",
              "      <td>1</td>\n",
              "      <td>1</td>\n",
              "      <td>1</td>\n",
              "      <td>0</td>\n",
              "      <td>0</td>\n",
              "      <td>0</td>\n",
              "      <td>0</td>\n",
              "      <td>0</td>\n",
              "      <td>0</td>\n",
              "      <td>0</td>\n",
              "      <td>0</td>\n",
              "      <td>0</td>\n",
              "      <td>0</td>\n",
              "      <td>0</td>\n",
              "      <td>0</td>\n",
              "      <td>0</td>\n",
              "      <td>0</td>\n",
              "      <td>0</td>\n",
              "      <td>0</td>\n",
              "      <td>0</td>\n",
              "      <td>0</td>\n",
              "      <td>0</td>\n",
              "      <td>...</td>\n",
              "      <td>0</td>\n",
              "      <td>0</td>\n",
              "      <td>0</td>\n",
              "      <td>0</td>\n",
              "      <td>0</td>\n",
              "      <td>0</td>\n",
              "      <td>0</td>\n",
              "      <td>0</td>\n",
              "      <td>0</td>\n",
              "      <td>0</td>\n",
              "      <td>0</td>\n",
              "      <td>0</td>\n",
              "      <td>0</td>\n",
              "      <td>0</td>\n",
              "      <td>0</td>\n",
              "      <td>0</td>\n",
              "      <td>0</td>\n",
              "      <td>0</td>\n",
              "      <td>0</td>\n",
              "      <td>0</td>\n",
              "      <td>0</td>\n",
              "      <td>0</td>\n",
              "      <td>0</td>\n",
              "      <td>0</td>\n",
              "      <td>0</td>\n",
              "      <td>0</td>\n",
              "      <td>0</td>\n",
              "      <td>0</td>\n",
              "      <td>0</td>\n",
              "      <td>0</td>\n",
              "      <td>0</td>\n",
              "      <td>0</td>\n",
              "      <td>0</td>\n",
              "      <td>0</td>\n",
              "      <td>0</td>\n",
              "      <td>0</td>\n",
              "      <td>0</td>\n",
              "      <td>0</td>\n",
              "      <td>0</td>\n",
              "      <td>0</td>\n",
              "    </tr>\n",
              "    <tr>\n",
              "      <th>2</th>\n",
              "      <td>1</td>\n",
              "      <td>1</td>\n",
              "      <td>0</td>\n",
              "      <td>0</td>\n",
              "      <td>0</td>\n",
              "      <td>0</td>\n",
              "      <td>0</td>\n",
              "      <td>0</td>\n",
              "      <td>0</td>\n",
              "      <td>1</td>\n",
              "      <td>1</td>\n",
              "      <td>1</td>\n",
              "      <td>0</td>\n",
              "      <td>0</td>\n",
              "      <td>0</td>\n",
              "      <td>0</td>\n",
              "      <td>0</td>\n",
              "      <td>0</td>\n",
              "      <td>1</td>\n",
              "      <td>1</td>\n",
              "      <td>1</td>\n",
              "      <td>0</td>\n",
              "      <td>0</td>\n",
              "      <td>0</td>\n",
              "      <td>0</td>\n",
              "      <td>0</td>\n",
              "      <td>0</td>\n",
              "      <td>0</td>\n",
              "      <td>0</td>\n",
              "      <td>0</td>\n",
              "      <td>0</td>\n",
              "      <td>0</td>\n",
              "      <td>0</td>\n",
              "      <td>0</td>\n",
              "      <td>0</td>\n",
              "      <td>0</td>\n",
              "      <td>0</td>\n",
              "      <td>0</td>\n",
              "      <td>0</td>\n",
              "      <td>0</td>\n",
              "      <td>...</td>\n",
              "      <td>0</td>\n",
              "      <td>0</td>\n",
              "      <td>0</td>\n",
              "      <td>0</td>\n",
              "      <td>0</td>\n",
              "      <td>0</td>\n",
              "      <td>0</td>\n",
              "      <td>0</td>\n",
              "      <td>0</td>\n",
              "      <td>0</td>\n",
              "      <td>0</td>\n",
              "      <td>0</td>\n",
              "      <td>0</td>\n",
              "      <td>0</td>\n",
              "      <td>0</td>\n",
              "      <td>0</td>\n",
              "      <td>0</td>\n",
              "      <td>0</td>\n",
              "      <td>0</td>\n",
              "      <td>0</td>\n",
              "      <td>0</td>\n",
              "      <td>0</td>\n",
              "      <td>0</td>\n",
              "      <td>0</td>\n",
              "      <td>0</td>\n",
              "      <td>0</td>\n",
              "      <td>0</td>\n",
              "      <td>0</td>\n",
              "      <td>0</td>\n",
              "      <td>0</td>\n",
              "      <td>0</td>\n",
              "      <td>0</td>\n",
              "      <td>0</td>\n",
              "      <td>0</td>\n",
              "      <td>0</td>\n",
              "      <td>0</td>\n",
              "      <td>0</td>\n",
              "      <td>0</td>\n",
              "      <td>0</td>\n",
              "      <td>0</td>\n",
              "    </tr>\n",
              "    <tr>\n",
              "      <th>3</th>\n",
              "      <td>1</td>\n",
              "      <td>1</td>\n",
              "      <td>0</td>\n",
              "      <td>0</td>\n",
              "      <td>0</td>\n",
              "      <td>0</td>\n",
              "      <td>0</td>\n",
              "      <td>0</td>\n",
              "      <td>0</td>\n",
              "      <td>1</td>\n",
              "      <td>1</td>\n",
              "      <td>1</td>\n",
              "      <td>0</td>\n",
              "      <td>0</td>\n",
              "      <td>0</td>\n",
              "      <td>0</td>\n",
              "      <td>0</td>\n",
              "      <td>0</td>\n",
              "      <td>1</td>\n",
              "      <td>1</td>\n",
              "      <td>1</td>\n",
              "      <td>0</td>\n",
              "      <td>0</td>\n",
              "      <td>0</td>\n",
              "      <td>0</td>\n",
              "      <td>0</td>\n",
              "      <td>0</td>\n",
              "      <td>0</td>\n",
              "      <td>0</td>\n",
              "      <td>0</td>\n",
              "      <td>0</td>\n",
              "      <td>0</td>\n",
              "      <td>0</td>\n",
              "      <td>0</td>\n",
              "      <td>0</td>\n",
              "      <td>0</td>\n",
              "      <td>0</td>\n",
              "      <td>0</td>\n",
              "      <td>0</td>\n",
              "      <td>0</td>\n",
              "      <td>...</td>\n",
              "      <td>0</td>\n",
              "      <td>0</td>\n",
              "      <td>0</td>\n",
              "      <td>0</td>\n",
              "      <td>0</td>\n",
              "      <td>0</td>\n",
              "      <td>0</td>\n",
              "      <td>0</td>\n",
              "      <td>0</td>\n",
              "      <td>0</td>\n",
              "      <td>0</td>\n",
              "      <td>0</td>\n",
              "      <td>0</td>\n",
              "      <td>0</td>\n",
              "      <td>0</td>\n",
              "      <td>0</td>\n",
              "      <td>0</td>\n",
              "      <td>0</td>\n",
              "      <td>0</td>\n",
              "      <td>0</td>\n",
              "      <td>0</td>\n",
              "      <td>0</td>\n",
              "      <td>0</td>\n",
              "      <td>0</td>\n",
              "      <td>0</td>\n",
              "      <td>0</td>\n",
              "      <td>0</td>\n",
              "      <td>0</td>\n",
              "      <td>0</td>\n",
              "      <td>0</td>\n",
              "      <td>0</td>\n",
              "      <td>0</td>\n",
              "      <td>0</td>\n",
              "      <td>0</td>\n",
              "      <td>0</td>\n",
              "      <td>0</td>\n",
              "      <td>0</td>\n",
              "      <td>0</td>\n",
              "      <td>0</td>\n",
              "      <td>0</td>\n",
              "    </tr>\n",
              "    <tr>\n",
              "      <th>4</th>\n",
              "      <td>1</td>\n",
              "      <td>1</td>\n",
              "      <td>1</td>\n",
              "      <td>0</td>\n",
              "      <td>0</td>\n",
              "      <td>0</td>\n",
              "      <td>0</td>\n",
              "      <td>0</td>\n",
              "      <td>0</td>\n",
              "      <td>1</td>\n",
              "      <td>1</td>\n",
              "      <td>1</td>\n",
              "      <td>1</td>\n",
              "      <td>0</td>\n",
              "      <td>0</td>\n",
              "      <td>0</td>\n",
              "      <td>0</td>\n",
              "      <td>0</td>\n",
              "      <td>1</td>\n",
              "      <td>1</td>\n",
              "      <td>1</td>\n",
              "      <td>1</td>\n",
              "      <td>0</td>\n",
              "      <td>0</td>\n",
              "      <td>0</td>\n",
              "      <td>0</td>\n",
              "      <td>0</td>\n",
              "      <td>0</td>\n",
              "      <td>0</td>\n",
              "      <td>0</td>\n",
              "      <td>0</td>\n",
              "      <td>0</td>\n",
              "      <td>0</td>\n",
              "      <td>0</td>\n",
              "      <td>0</td>\n",
              "      <td>0</td>\n",
              "      <td>0</td>\n",
              "      <td>0</td>\n",
              "      <td>0</td>\n",
              "      <td>0</td>\n",
              "      <td>...</td>\n",
              "      <td>0</td>\n",
              "      <td>0</td>\n",
              "      <td>0</td>\n",
              "      <td>0</td>\n",
              "      <td>0</td>\n",
              "      <td>0</td>\n",
              "      <td>0</td>\n",
              "      <td>0</td>\n",
              "      <td>0</td>\n",
              "      <td>0</td>\n",
              "      <td>0</td>\n",
              "      <td>0</td>\n",
              "      <td>0</td>\n",
              "      <td>0</td>\n",
              "      <td>0</td>\n",
              "      <td>0</td>\n",
              "      <td>0</td>\n",
              "      <td>0</td>\n",
              "      <td>0</td>\n",
              "      <td>0</td>\n",
              "      <td>0</td>\n",
              "      <td>0</td>\n",
              "      <td>0</td>\n",
              "      <td>0</td>\n",
              "      <td>0</td>\n",
              "      <td>0</td>\n",
              "      <td>0</td>\n",
              "      <td>0</td>\n",
              "      <td>0</td>\n",
              "      <td>0</td>\n",
              "      <td>0</td>\n",
              "      <td>0</td>\n",
              "      <td>0</td>\n",
              "      <td>0</td>\n",
              "      <td>0</td>\n",
              "      <td>0</td>\n",
              "      <td>0</td>\n",
              "      <td>0</td>\n",
              "      <td>0</td>\n",
              "      <td>0</td>\n",
              "    </tr>\n",
              "  </tbody>\n",
              "</table>\n",
              "<p>5 rows × 881 columns</p>\n",
              "</div>\n",
              "      <button class=\"colab-df-convert\" onclick=\"convertToInteractive('df-cbfb7799-26eb-43ca-89c7-de6be58265a7')\"\n",
              "              title=\"Convert this dataframe to an interactive table.\"\n",
              "              style=\"display:none;\">\n",
              "        \n",
              "  <svg xmlns=\"http://www.w3.org/2000/svg\" height=\"24px\"viewBox=\"0 0 24 24\"\n",
              "       width=\"24px\">\n",
              "    <path d=\"M0 0h24v24H0V0z\" fill=\"none\"/>\n",
              "    <path d=\"M18.56 5.44l.94 2.06.94-2.06 2.06-.94-2.06-.94-.94-2.06-.94 2.06-2.06.94zm-11 1L8.5 8.5l.94-2.06 2.06-.94-2.06-.94L8.5 2.5l-.94 2.06-2.06.94zm10 10l.94 2.06.94-2.06 2.06-.94-2.06-.94-.94-2.06-.94 2.06-2.06.94z\"/><path d=\"M17.41 7.96l-1.37-1.37c-.4-.4-.92-.59-1.43-.59-.52 0-1.04.2-1.43.59L10.3 9.45l-7.72 7.72c-.78.78-.78 2.05 0 2.83L4 21.41c.39.39.9.59 1.41.59.51 0 1.02-.2 1.41-.59l7.78-7.78 2.81-2.81c.8-.78.8-2.07 0-2.86zM5.41 20L4 18.59l7.72-7.72 1.47 1.35L5.41 20z\"/>\n",
              "  </svg>\n",
              "      </button>\n",
              "      \n",
              "  <style>\n",
              "    .colab-df-container {\n",
              "      display:flex;\n",
              "      flex-wrap:wrap;\n",
              "      gap: 12px;\n",
              "    }\n",
              "\n",
              "    .colab-df-convert {\n",
              "      background-color: #E8F0FE;\n",
              "      border: none;\n",
              "      border-radius: 50%;\n",
              "      cursor: pointer;\n",
              "      display: none;\n",
              "      fill: #1967D2;\n",
              "      height: 32px;\n",
              "      padding: 0 0 0 0;\n",
              "      width: 32px;\n",
              "    }\n",
              "\n",
              "    .colab-df-convert:hover {\n",
              "      background-color: #E2EBFA;\n",
              "      box-shadow: 0px 1px 2px rgba(60, 64, 67, 0.3), 0px 1px 3px 1px rgba(60, 64, 67, 0.15);\n",
              "      fill: #174EA6;\n",
              "    }\n",
              "\n",
              "    [theme=dark] .colab-df-convert {\n",
              "      background-color: #3B4455;\n",
              "      fill: #D2E3FC;\n",
              "    }\n",
              "\n",
              "    [theme=dark] .colab-df-convert:hover {\n",
              "      background-color: #434B5C;\n",
              "      box-shadow: 0px 1px 3px 1px rgba(0, 0, 0, 0.15);\n",
              "      filter: drop-shadow(0px 1px 2px rgba(0, 0, 0, 0.3));\n",
              "      fill: #FFFFFF;\n",
              "    }\n",
              "  </style>\n",
              "\n",
              "      <script>\n",
              "        const buttonEl =\n",
              "          document.querySelector('#df-cbfb7799-26eb-43ca-89c7-de6be58265a7 button.colab-df-convert');\n",
              "        buttonEl.style.display =\n",
              "          google.colab.kernel.accessAllowed ? 'block' : 'none';\n",
              "\n",
              "        async function convertToInteractive(key) {\n",
              "          const element = document.querySelector('#df-cbfb7799-26eb-43ca-89c7-de6be58265a7');\n",
              "          const dataTable =\n",
              "            await google.colab.kernel.invokeFunction('convertToInteractive',\n",
              "                                                     [key], {});\n",
              "          if (!dataTable) return;\n",
              "\n",
              "          const docLinkHtml = 'Like what you see? Visit the ' +\n",
              "            '<a target=\"_blank\" href=https://colab.research.google.com/notebooks/data_table.ipynb>data table notebook</a>'\n",
              "            + ' to learn more about interactive tables.';\n",
              "          element.innerHTML = '';\n",
              "          dataTable['output_type'] = 'display_data';\n",
              "          await google.colab.output.renderOutput(dataTable, element);\n",
              "          const docLink = document.createElement('div');\n",
              "          docLink.innerHTML = docLinkHtml;\n",
              "          element.appendChild(docLink);\n",
              "        }\n",
              "      </script>\n",
              "    </div>\n",
              "  </div>\n",
              "  "
            ],
            "text/plain": [
              "   PubchemFP0  PubchemFP1  PubchemFP2  ...  PubchemFP878  PubchemFP879  PubchemFP880\n",
              "0           1           1           1  ...             0             0             0\n",
              "1           1           1           0  ...             0             0             0\n",
              "2           1           1           0  ...             0             0             0\n",
              "3           1           1           0  ...             0             0             0\n",
              "4           1           1           1  ...             0             0             0\n",
              "\n",
              "[5 rows x 881 columns]"
            ]
          },
          "metadata": {},
          "execution_count": 10
        }
      ]
    },
    {
      "cell_type": "markdown",
      "source": [
        "### Data Splitting"
      ],
      "metadata": {
        "id": "0dvDpjFjot4T"
      }
    },
    {
      "cell_type": "code",
      "source": [
        "y = antioxidant_data['pIC50']"
      ],
      "metadata": {
        "id": "4GzCFEEDoh_t"
      },
      "execution_count": 11,
      "outputs": []
    },
    {
      "cell_type": "code",
      "source": [
        "x_train, x_test, y_train, y_test = train_test_split(X_padel, y, test_size=0.3)\n",
        "\n",
        "print(x_train.shape)"
      ],
      "metadata": {
        "id": "fwk2ZoLrqFbz",
        "colab": {
          "base_uri": "https://localhost:8080/"
        },
        "outputId": "8eb7aae4-df45-4d94-9ee2-daae020fb7bc"
      },
      "execution_count": 12,
      "outputs": [
        {
          "output_type": "stream",
          "name": "stdout",
          "text": [
            "(11, 881)\n"
          ]
        }
      ]
    },
    {
      "cell_type": "markdown",
      "source": [
        "## Antioxidant Models"
      ],
      "metadata": {
        "id": "O_0DrMt4C5Lc"
      }
    },
    {
      "cell_type": "markdown",
      "source": [
        "### SGD Regressor"
      ],
      "metadata": {
        "id": "ybqGQDHaRiAS"
      }
    },
    {
      "cell_type": "code",
      "source": [
        "loss = ['squared_error'] \n",
        "\n",
        "penalty = ['l1', 'l2', 'elasticnet'] \n",
        "\n",
        "alpha = [0.0001, 0.001, 0.01, 0.1, 1, 10, 100, 1000] \n",
        "\n",
        "learning_rate = ['constant', 'optimal', 'invscaling', 'adaptive'] \n",
        "\n",
        "eta0 = [1, 10, 100] \n",
        "\n",
        "param_dist = dict(loss=loss, \n",
        "                           penalty=penalty, \n",
        "                           alpha=alpha, \n",
        "                           learning_rate=learning_rate, \n",
        "                           eta0=eta0) \n",
        "\n",
        "param_dist"
      ],
      "metadata": {
        "id": "U8_ZYb_SRhGJ",
        "colab": {
          "base_uri": "https://localhost:8080/"
        },
        "outputId": "da832842-93e4-4255-a428-0fff78c875d0"
      },
      "execution_count": 13,
      "outputs": [
        {
          "output_type": "execute_result",
          "data": {
            "text/plain": [
              "{'alpha': [0.0001, 0.001, 0.01, 0.1, 1, 10, 100, 1000],\n",
              " 'eta0': [1, 10, 100],\n",
              " 'learning_rate': ['constant', 'optimal', 'invscaling', 'adaptive'],\n",
              " 'loss': ['squared_error'],\n",
              " 'penalty': ['l1', 'l2', 'elasticnet']}"
            ]
          },
          "metadata": {},
          "execution_count": 13
        }
      ]
    },
    {
      "cell_type": "code",
      "source": [
        "sgd = SGDRegressor()\n",
        "\n",
        "grid_search = GridSearchCV(estimator=sgd, \n",
        "                           param_grid=param_dist, \n",
        "                           scoring='neg_mean_squared_error', \n",
        "                           verbose=1, n_jobs=-1) \n",
        "\n",
        "grid_search_result = grid_search.fit(x_train, y_train) \n",
        "best_para = grid_search_result.best_params_\n",
        "\n",
        "print('Best Score: ', grid_search_result.best_score_) \n",
        "print('\\nBest Parameters: ', best_para)"
      ],
      "metadata": {
        "id": "9_oYntNQpcQc",
        "colab": {
          "base_uri": "https://localhost:8080/"
        },
        "outputId": "084100e5-b005-46b5-8b0f-65b99a6410c6"
      },
      "execution_count": 14,
      "outputs": [
        {
          "output_type": "stream",
          "name": "stdout",
          "text": [
            "Fitting 5 folds for each of 288 candidates, totalling 1440 fits\n",
            "Best Score:  -0.8594519045219334\n",
            "\n",
            "Best Parameters:  {'alpha': 1000, 'eta0': 1, 'learning_rate': 'invscaling', 'loss': 'squared_error', 'penalty': 'l1'}\n"
          ]
        }
      ]
    },
    {
      "cell_type": "code",
      "source": [
        "sgd = SGDRegressor(alpha=best_para['alpha'],\n",
        "                   eta0=best_para['eta0'],\n",
        "                   learning_rate=best_para['learning_rate'],\n",
        "                   loss=best_para['loss'],\n",
        "                   penalty=best_para['penalty']\n",
        "                   ).fit(x_train, y_train)"
      ],
      "metadata": {
        "id": "-HBnovx4suok"
      },
      "execution_count": 15,
      "outputs": []
    },
    {
      "cell_type": "markdown",
      "source": [
        "### RandomForestRegressor"
      ],
      "metadata": {
        "id": "ZwAw-49cN-eX"
      }
    },
    {
      "cell_type": "code",
      "source": [
        "param_grid = {\n",
        "    'bootstrap': [True],\n",
        "    'max_features': [\"auto\", \"sqrt\", \"log2\"],\n",
        "    'min_samples_leaf': [3, 6],\n",
        "    'min_samples_split': [6, 12, 18],\n",
        "    'n_estimators': [75, 150, 300]\n",
        "}"
      ],
      "metadata": {
        "id": "pTiihoF0PADn"
      },
      "execution_count": 16,
      "outputs": []
    },
    {
      "cell_type": "code",
      "source": [
        "rfr = RandomForestRegressor()\n",
        "\n",
        "grid_search = GridSearchCV(estimator=rfr, \n",
        "                           param_grid=param_grid, \n",
        "                           scoring='neg_mean_squared_error', \n",
        "                           verbose=1, n_jobs=-1) \n",
        "\n",
        "grid_search_result = grid_search.fit(x_train, y_train) \n",
        "best_para = grid_search_result.best_params_\n",
        "\n",
        "print('Best Score: ', grid_search_result.best_score_) \n",
        "print('\\nBest Parameters: ', best_para)"
      ],
      "metadata": {
        "colab": {
          "base_uri": "https://localhost:8080/"
        },
        "id": "d2KTwoEpQCiY",
        "outputId": "678173f3-b4fa-4c6f-c91a-4a5a33e00aa5"
      },
      "execution_count": 17,
      "outputs": [
        {
          "output_type": "stream",
          "name": "stdout",
          "text": [
            "Fitting 5 folds for each of 54 candidates, totalling 270 fits\n",
            "Best Score:  -0.9244133277482606\n",
            "\n",
            "Best Parameters:  {'bootstrap': True, 'max_features': 'log2', 'min_samples_leaf': 6, 'min_samples_split': 6, 'n_estimators': 150}\n"
          ]
        }
      ]
    },
    {
      "cell_type": "code",
      "source": [
        "rfr = RandomForestRegressor(bootstrap=True,\n",
        "                            n_jobs=-1,\n",
        "                            max_features=best_para['max_features'],\n",
        "                            min_samples_leaf=best_para['min_samples_leaf'],\n",
        "                            min_samples_split=best_para['min_samples_split'],\n",
        "                            n_estimators=best_para['n_estimators'])\n",
        "\n",
        "rfr.fit(x_train, y_train)"
      ],
      "metadata": {
        "id": "xiP_HW-8OD2X",
        "colab": {
          "base_uri": "https://localhost:8080/"
        },
        "outputId": "f6788ed5-d950-4309-bc69-b5a0054b7300"
      },
      "execution_count": 18,
      "outputs": [
        {
          "output_type": "execute_result",
          "data": {
            "text/plain": [
              "RandomForestRegressor(max_features='log2', min_samples_leaf=6,\n",
              "                      min_samples_split=6, n_estimators=150, n_jobs=-1)"
            ]
          },
          "metadata": {},
          "execution_count": 18
        }
      ]
    },
    {
      "cell_type": "markdown",
      "source": [
        "### Neural Network"
      ],
      "metadata": {
        "id": "u_4HhGMRXnyo"
      }
    },
    {
      "cell_type": "code",
      "source": [
        "model = Sequential()\n",
        "\n",
        "model.add(Dense(881, \n",
        "                input_dim=x_train.shape[1], \n",
        "                kernel_initializer='normal', \n",
        "                kernel_regularizer='l2',\n",
        "                activation='relu', \n",
        "                name='Hidden-Layer-1'))\n",
        "\n",
        "model.add(Dropout(0.6))\n",
        "\n",
        "model.add(Dense(180, \n",
        "                kernel_initializer='random_normal', \n",
        "                kernel_regularizer='l2',\n",
        "                activation='relu', name='Hidden-Layer-2'))\n",
        "\n",
        "model.add(Dense(90, \n",
        "                kernel_initializer='random_normal', \n",
        "                kernel_regularizer='l2',\n",
        "                activation='relu', name='Hidden-Layer-3'))\n",
        "\n",
        "model.add(Dropout(0.2))\n",
        "\n",
        "model.add(Dense(30, \n",
        "                kernel_initializer='random_normal', \n",
        "                kernel_regularizer='l2',  \n",
        "                activation='relu', \n",
        "                name='Hidden-Layer-4'))\n",
        "\n",
        "model.add(Dropout(0.2))\n",
        "\n",
        "model.add(Dense(1, \n",
        "                kernel_initializer='random_normal', \n",
        "                activation='relu', \n",
        "                name='Output-Layer'))"
      ],
      "metadata": {
        "id": "o6w4b50QXp5l"
      },
      "execution_count": 19,
      "outputs": []
    },
    {
      "cell_type": "code",
      "source": [
        "callback = tf.keras.callbacks.EarlyStopping(monitor='loss', patience=3)"
      ],
      "metadata": {
        "id": "j8SjOsyXX7dH"
      },
      "execution_count": 20,
      "outputs": []
    },
    {
      "cell_type": "code",
      "source": [
        "model.compile(loss='mean_squared_error', \n",
        "              optimizer=tf.keras.optimizers.Adam(learning_rate=0.0001), \n",
        "              metrics=[tf.keras.metrics.RootMeanSquaredError()])\n",
        "\n",
        "model.fit(x_train, y_train, batch_size=3, epochs=150, callbacks=[callback])"
      ],
      "metadata": {
        "id": "Kmr1nN_gX7zu",
        "colab": {
          "base_uri": "https://localhost:8080/"
        },
        "outputId": "3109e4d8-220b-4df6-ecf7-b3fdeb34d900"
      },
      "execution_count": 21,
      "outputs": [
        {
          "output_type": "stream",
          "name": "stdout",
          "text": [
            "Epoch 1/150\n",
            "4/4 [==============================] - 1s 17ms/step - loss: 80.0790 - root_mean_squared_error: 7.5041\n",
            "Epoch 2/150\n",
            "4/4 [==============================] - 0s 16ms/step - loss: 79.5501 - root_mean_squared_error: 7.4858\n",
            "Epoch 3/150\n",
            "4/4 [==============================] - 0s 14ms/step - loss: 79.0879 - root_mean_squared_error: 7.4708\n",
            "Epoch 4/150\n",
            "4/4 [==============================] - 0s 11ms/step - loss: 77.9480 - root_mean_squared_error: 7.4098\n",
            "Epoch 5/150\n",
            "4/4 [==============================] - 0s 11ms/step - loss: 77.2955 - root_mean_squared_error: 7.3808\n",
            "Epoch 6/150\n",
            "4/4 [==============================] - 0s 16ms/step - loss: 76.3589 - root_mean_squared_error: 7.3321\n",
            "Epoch 7/150\n",
            "4/4 [==============================] - 0s 13ms/step - loss: 76.0916 - root_mean_squared_error: 7.3286\n",
            "Epoch 8/150\n",
            "4/4 [==============================] - 0s 13ms/step - loss: 74.6797 - root_mean_squared_error: 7.2462\n",
            "Epoch 9/150\n",
            "4/4 [==============================] - 0s 11ms/step - loss: 73.5169 - root_mean_squared_error: 7.1800\n",
            "Epoch 10/150\n",
            "4/4 [==============================] - 0s 12ms/step - loss: 72.3836 - root_mean_squared_error: 7.1150\n",
            "Epoch 11/150\n",
            "4/4 [==============================] - 0s 12ms/step - loss: 72.6868 - root_mean_squared_error: 7.1503\n",
            "Epoch 12/150\n",
            "4/4 [==============================] - 0s 12ms/step - loss: 69.9070 - root_mean_squared_error: 6.9674\n",
            "Epoch 13/150\n",
            "4/4 [==============================] - 0s 12ms/step - loss: 68.1548 - root_mean_squared_error: 6.8547\n",
            "Epoch 14/150\n",
            "4/4 [==============================] - 0s 13ms/step - loss: 66.0129 - root_mean_squared_error: 6.7108\n",
            "Epoch 15/150\n",
            "4/4 [==============================] - 0s 13ms/step - loss: 63.1896 - root_mean_squared_error: 6.5114\n",
            "Epoch 16/150\n",
            "4/4 [==============================] - 0s 18ms/step - loss: 60.3662 - root_mean_squared_error: 6.3055\n",
            "Epoch 17/150\n",
            "4/4 [==============================] - 0s 15ms/step - loss: 55.8646 - root_mean_squared_error: 5.9530\n",
            "Epoch 18/150\n",
            "4/4 [==============================] - 0s 13ms/step - loss: 55.7356 - root_mean_squared_error: 5.9570\n",
            "Epoch 19/150\n",
            "4/4 [==============================] - 0s 12ms/step - loss: 52.0561 - root_mean_squared_error: 5.6551\n",
            "Epoch 20/150\n",
            "4/4 [==============================] - 0s 12ms/step - loss: 42.9972 - root_mean_squared_error: 4.8055\n",
            "Epoch 21/150\n",
            "4/4 [==============================] - 0s 12ms/step - loss: 42.0881 - root_mean_squared_error: 4.7277\n",
            "Epoch 22/150\n",
            "4/4 [==============================] - 0s 12ms/step - loss: 36.9761 - root_mean_squared_error: 4.1719\n",
            "Epoch 23/150\n",
            "4/4 [==============================] - 0s 13ms/step - loss: 32.2726 - root_mean_squared_error: 3.5865\n",
            "Epoch 24/150\n",
            "4/4 [==============================] - 0s 13ms/step - loss: 30.8460 - root_mean_squared_error: 3.4054\n",
            "Epoch 25/150\n",
            "4/4 [==============================] - 0s 12ms/step - loss: 29.4724 - root_mean_squared_error: 3.2220\n",
            "Epoch 26/150\n",
            "4/4 [==============================] - 0s 13ms/step - loss: 23.3308 - root_mean_squared_error: 2.0967\n",
            "Epoch 27/150\n",
            "4/4 [==============================] - 0s 12ms/step - loss: 26.5459 - root_mean_squared_error: 2.7869\n",
            "Epoch 28/150\n",
            "4/4 [==============================] - 0s 11ms/step - loss: 25.9696 - root_mean_squared_error: 2.7100\n",
            "Epoch 29/150\n",
            "4/4 [==============================] - 0s 11ms/step - loss: 22.1984 - root_mean_squared_error: 1.9301\n",
            "Epoch 30/150\n",
            "4/4 [==============================] - 0s 12ms/step - loss: 25.5682 - root_mean_squared_error: 2.6921\n",
            "Epoch 31/150\n",
            "4/4 [==============================] - 0s 11ms/step - loss: 23.6496 - root_mean_squared_error: 2.3411\n",
            "Epoch 32/150\n",
            "4/4 [==============================] - 0s 12ms/step - loss: 24.2867 - root_mean_squared_error: 2.5037\n"
          ]
        },
        {
          "output_type": "execute_result",
          "data": {
            "text/plain": [
              "<keras.callbacks.History at 0x7f61cdec2c50>"
            ]
          },
          "metadata": {},
          "execution_count": 21
        }
      ]
    },
    {
      "cell_type": "markdown",
      "source": [
        "## Result & Conclusion"
      ],
      "metadata": {
        "id": "ssYysW_nzfVx"
      }
    },
    {
      "cell_type": "code",
      "source": [
        "rfr_y_train_pred = rfr.predict(x_train)\n",
        "rfr_y_test_pred = rfr.predict(x_test)\n",
        "\n",
        "# Mean square error\n",
        "mse_rfr_train = mean_squared_error(y_train, rfr_y_train_pred)\n",
        "mse_rfr_test = mean_squared_error(y_test, rfr_y_test_pred)\n",
        "\n",
        "# R2 score\n",
        "r2_rfr_test = r2_score(y_test, rfr_y_test_pred)\n",
        "r2_rfr_train = r2_score(y_train, rfr_y_train_pred)\n",
        "\n",
        "print(f\"MSE (Train): {mse_rfr_train}\")\n",
        "print(f\"MSE (Test): {mse_rfr_test}\\n\")\n",
        "\n",
        "print(f\"R2 Score (Train): {r2_rfr_train}\")\n",
        "print(f\"R2 Score (Test): {r2_rfr_test}\")\n",
        "\n",
        "plt.figure(figsize=(11,5))\n",
        "\n",
        "# 1 row, 2 column, plot 1\n",
        "plt.subplot(1, 2, 1)\n",
        "plt.scatter(x=y_train, y=rfr_y_train_pred, c=\"#8854d0\")\n",
        "\n",
        "z = np.polyfit(y_train, rfr_y_train_pred, 1)\n",
        "p = np.poly1d(z)\n",
        "plt.plot(y_train,p(y_train),\"#F8766D\")\n",
        "plt.title(\"RandomForestRegressor Cytotoxicity (Train)\", fontsize='large')\n",
        "plt.ylabel('Predicted pIC50', fontweight='bold')\n",
        "plt.xlabel('Experimental pIC50', fontweight='bold')\n",
        "\n",
        "# 1 row, 2 column, plot 2\n",
        "plt.subplot(1, 2, 2)\n",
        "plt.scatter(x=y_test, y=rfr_y_test_pred, c=\"#8854d0\")\n",
        "\n",
        "z = np.polyfit(y_test, rfr_y_test_pred, 1)\n",
        "p = np.poly1d(z)\n",
        "plt.plot(y_test, p(y_test),\"#F8766D\")\n",
        "plt.title(\"RandomForestRegressor Cytotoxicity (Test)\", fontsize='large')\n",
        "plt.xlabel('Experimental pIC50', fontweight='bold')\n",
        "plt.show()"
      ],
      "metadata": {
        "id": "LFSZqHizOD4u",
        "colab": {
          "base_uri": "https://localhost:8080/",
          "height": 441
        },
        "outputId": "d424e4e6-c3b0-4607-8f88-8b8a4b26e7ba"
      },
      "execution_count": 22,
      "outputs": [
        {
          "output_type": "stream",
          "name": "stdout",
          "text": [
            "MSE (Train): 0.7337367740216774\n",
            "MSE (Test): 1.7491847196604073\n",
            "\n",
            "R2 Score (Train): -0.0002980118896198647\n",
            "R2 Score (Test): -1.4880681788193924\n"
          ]
        },
        {
          "output_type": "display_data",
          "data": {
            "image/png": "[encoded data removed]",
            "text/plain": [
              "<Figure size 792x360 with 2 Axes>"
            ]
          },
          "metadata": {
            "needs_background": "light"
          }
        }
      ]
    },
    {
      "cell_type": "code",
      "source": [
        "sgd_y_train_pred = sgd.predict(x_train)\n",
        "sgd_y_test_pred = sgd.predict(x_test)\n",
        "\n",
        "# Mean square error\n",
        "mse_sgd_train = mean_squared_error(y_train, sgd_y_train_pred)\n",
        "mse_sgd_test = mean_squared_error(y_test, sgd_y_test_pred)\n",
        "\n",
        "# R2 score\n",
        "r2_sgd_test = r2_score(y_test, sgd_y_test_pred)\n",
        "r2_sgd_train = r2_score(y_train, sgd_y_train_pred)\n",
        "\n",
        "print(f\"MSE (Train): {mse_sgd_train}\")\n",
        "print(f\"MSE (Test): {mse_sgd_test}\\n\")\n",
        "\n",
        "print(f\"R2 Score (Train): {r2_sgd_train}\")\n",
        "print(f\"R2 Score (Test): {r2_sgd_test}\")\n",
        "\n",
        "plt.figure(figsize=(11,5))\n",
        "\n",
        "# 1 row, 2 column, plot 1\n",
        "plt.subplot(1, 2, 1)\n",
        "plt.scatter(x=y_train, y=sgd_y_train_pred, c=\"#fa8231\", alpha=0.3)\n",
        "\n",
        "z = np.polyfit(y_train, sgd_y_train_pred, 1)\n",
        "p = np.poly1d(z)\n",
        "plt.plot(y_train,p(y_train),\"#eb3b5a\")\n",
        "plt.title(\"SGD Cytotoxicity (Train)\")\n",
        "plt.ylabel('Predicted pIC50')\n",
        "plt.xlabel('Experimental pIC50')\n",
        "\n",
        "# 1 row, 2 column, plot 2\n",
        "plt.subplot(1, 2, 2)\n",
        "plt.scatter(x=y_test, y=sgd_y_test_pred, c=\"#fa8231\", alpha=0.3)\n",
        "\n",
        "z = np.polyfit(y_test, sgd_y_test_pred, 1)\n",
        "p = np.poly1d(z)\n",
        "plt.plot(y_test, p(y_test),\"#eb3b5a\")\n",
        "plt.title(\"SGD Cytotoxicity (Test)\")\n",
        "plt.xlabel('Experimental pIC50')\n",
        "plt.show()"
      ],
      "metadata": {
        "id": "9PitNlOks9jw",
        "colab": {
          "base_uri": "https://localhost:8080/",
          "height": 441
        },
        "outputId": "7ba77d7e-d755-4b9a-9fe6-7dbeb311fffc"
      },
      "execution_count": 23,
      "outputs": [
        {
          "output_type": "stream",
          "name": "stdout",
          "text": [
            "MSE (Train): 0.7733848556110359\n",
            "MSE (Test): 1.3564847894881424\n",
            "\n",
            "R2 Score (Train): -0.05434995339405502\n",
            "R2 Score (Test): -0.9294855493782317\n"
          ]
        },
        {
          "output_type": "display_data",
          "data": {
            "image/png": "[encoded data removed]",
            "text/plain": [
              "<Figure size 792x360 with 2 Axes>"
            ]
          },
          "metadata": {
            "needs_background": "light"
          }
        }
      ]
    },
    {
      "cell_type": "code",
      "source": [
        "y_test_pred = model.predict(x_test)\n",
        "y_train_pred = model.predict(x_train)\n",
        "\n",
        "nn_y_train_pred = np.array(y_train_pred).reshape(y_train.shape)\n",
        "nn_y_test_pred = np.array(y_test_pred).reshape(y_test.shape)\n",
        "\n",
        "# Mean square error\n",
        "mse_nn_train = mean_squared_error(y_train, nn_y_train_pred)\n",
        "mse_nn_test = mean_squared_error(y_test, nn_y_test_pred)\n",
        "\n",
        "# R2 score\n",
        "r2_nn_test = r2_score(y_test, nn_y_test_pred)\n",
        "r2_nn_train = r2_score(y_train, nn_y_train_pred)\n",
        "\n",
        "print(f\"MSE (Train): {mse_nn_train}\")\n",
        "print(f\"MSE (Test): {mse_nn_test}\\n\")\n",
        "\n",
        "print(f\"R2 Score (Train): {r2_nn_train}\")\n",
        "print(f\"R2 Score (Test): {r2_nn_test}\")\n",
        "\n",
        "plt.figure(figsize=(11,5))\n",
        "\n",
        "# 1 row, 2 column, plot 1\n",
        "plt.subplot(1, 2, 1)\n",
        "plt.scatter(x=y_train, y=nn_y_train_pred, c=\"#0fb9b1\", alpha=0.7)\n",
        "\n",
        "z = np.polyfit(y_train, nn_y_train_pred, 1)\n",
        "p = np.poly1d(z)\n",
        "plt.plot(y_train,p(y_train),\"#eb3b5a\")\n",
        "plt.title(\"Neural Network Cytotoxicity (Train)\")\n",
        "plt.ylabel('Predicted pIC50')\n",
        "plt.xlabel('Experimental pIC50')\n",
        "\n",
        "# 1 row, 2 column, plot 2\n",
        "plt.subplot(1, 2, 2)\n",
        "plt.scatter(x=y_test, y=nn_y_test_pred, c=\"#0fb9b1\", alpha=0.7)\n",
        "\n",
        "z = np.polyfit(y_test, nn_y_test_pred, 1)\n",
        "p = np.poly1d(z)\n",
        "plt.plot(y_test, p(y_test),\"#eb3b5a\")\n",
        "plt.title(\"Neural Network Cytotoxicity (Test)\")\n",
        "plt.xlabel('Experimental pIC50')\n",
        "plt.show()"
      ],
      "metadata": {
        "id": "OzRw_JX8YBdp",
        "colab": {
          "base_uri": "https://localhost:8080/",
          "height": 441
        },
        "outputId": "d9014bfe-546b-429e-cc79-0e6b7a6f9882"
      },
      "execution_count": 24,
      "outputs": [
        {
          "output_type": "stream",
          "name": "stdout",
          "text": [
            "MSE (Train): 1.9969628519122913\n",
            "MSE (Test): 6.324736798132109\n",
            "\n",
            "R2 Score (Train): -1.7224449438951996\n",
            "R2 Score (Test): -7.99640626285351\n"
          ]
        },
        {
          "output_type": "display_data",
          "data": {
            "image/png": "[encoded data removed]",
            "text/plain": [
              "<Figure size 792x360 with 2 Axes>"
            ]
          },
          "metadata": {
            "needs_background": "light"
          }
        }
      ]
    },
    {
      "cell_type": "code",
      "source": [
        "ml_result = pd.DataFrame()\n",
        "\n",
        "ml_result['type'] = [\"Train\", \"Test\", \"Train\", \"Test\", \"Train\", \"Test\"]\n",
        "ml_result['mse'] = [mse_nn_train, mse_nn_test, mse_sgd_train, mse_sgd_test, mse_rfr_train, mse_rfr_test]\n",
        "ml_result['r2score'] = [r2_nn_train, r2_nn_test, r2_sgd_train, r2_sgd_test, r2_rfr_train, r2_rfr_test]\n",
        "ml_result['model'] = [\"NeuralNetwork\", \"NeuralNetwork\", \"SGDRegressor\", \"SGDRegressor\", \"RandomForestRegressor\", \"RandomForestRegressor\"]"
      ],
      "metadata": {
        "id": "zEG1YWQ5s-pD"
      },
      "execution_count": 25,
      "outputs": []
    },
    {
      "cell_type": "code",
      "source": [
        "sns.catplot(x=\"type\", \n",
        "            y=\"mse\", \n",
        "            hue=\"model\", \n",
        "            kind=\"point\", \n",
        "            palette={\"NeuralNetwork\": \"#0fb9b1\", \n",
        "                     \"SGDRegressor\": \"#fa8231\", \n",
        "                     \"RandomForestRegressor\": \"#8854d0\"},\n",
        "            markers=[\"o\", \"s\", \"^\"], \n",
        "            linestyles=[\"solid\", \"dotted\", \"dashed\"],\n",
        "            data=ml_result)\n",
        "plt.title(\"MSE Comparison Between Cytotoxicity Models\")\n",
        "plt.xlabel('Dataset')\n",
        "plt.ylabel('MSE')\n",
        "plt.show()"
      ],
      "metadata": {
        "colab": {
          "base_uri": "https://localhost:8080/",
          "height": 385
        },
        "id": "8Xgmgh0csK30",
        "outputId": "5b62576c-cabd-40d7-8f2f-d5dbf2868017"
      },
      "execution_count": 26,
      "outputs": [
        {
          "output_type": "display_data",
          "data": {
            "image/png": "[encoded data removed]",
            "text/plain": [
              "<Figure size 517.125x360 with 1 Axes>"
            ]
          },
          "metadata": {
            "needs_background": "light"
          }
        }
      ]
    },
    {
      "cell_type": "code",
      "source": [
        "sns.catplot(x=\"type\", \n",
        "            y=\"r2score\", \n",
        "            hue=\"model\", \n",
        "            kind=\"point\", \n",
        "            palette={\"NeuralNetwork\": \"#0fb9b1\", \n",
        "                     \"SGDRegressor\": \"#fa8231\", \n",
        "                     \"RandomForestRegressor\": \"#8854d0\"},\n",
        "            markers=[\"o\", \"s\", \"^\"], \n",
        "            linestyles=[\"solid\", \"dotted\", \"dashed\"],\n",
        "            data=ml_result)\n",
        "\n",
        "plt.title(\"R2 Score Comparison Between Cytotoxicity Models\")\n",
        "plt.xlabel('Dataset')\n",
        "plt.ylabel('R2 Score')\n",
        "plt.show()"
      ],
      "metadata": {
        "colab": {
          "base_uri": "https://localhost:8080/",
          "height": 385
        },
        "id": "LSCg1nkFuVCs",
        "outputId": "e051294e-25a6-47b9-9168-564ae9830be5"
      },
      "execution_count": 27,
      "outputs": [
        {
          "output_type": "display_data",
          "data": {
            "image/png": "[encoded data removed]",
            "text/plain": [
              "<Figure size 517.125x360 with 1 Axes>"
            ]
          },
          "metadata": {
            "needs_background": "light"
          }
        }
      ]
    }
  ]
}