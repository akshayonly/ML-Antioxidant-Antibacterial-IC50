{
  "nbformat": 4,
  "nbformat_minor": 0,
  "metadata": {
    "colab": {
      "name": "ML-Antioxidant-Antibacterial-IC50.ipynb",
      "provenance": [],
      "collapsed_sections": [
        "_iFy5THnehxC",
        "28fRZg4kemRy",
        "UVGYnPF9erxi",
        "HD5QsthCezGq",
        "rzf1L3JJfc3y",
        "_bgscDsoa5JE",
        "XOJkIWV1a8ET"
      ],
      "mount_file_id": "1gEbHa4T1u48gI2tAAAYOflvceXnTQT75",
      "authorship_tag": "ABX9TyOKaDUjU0U+tgJ7/iBzTj14",
      "include_colab_link": true
    },
    "kernelspec": {
      "name": "python3",
      "display_name": "Python 3"
    },
    "language_info": {
      "name": "python"
    }
  },
  "cells": [
    {
      "cell_type": "markdown",
      "metadata": {
        "id": "view-in-github",
        "colab_type": "text"
      },
      "source": [
        "<a href=\"https://colab.research.google.com/github/akshayonly/ML-Antioxidant-Antibacterial-IC50/blob/main/ML_Antioxidant_Antibacterial_IC50.ipynb\" target=\"_parent\"><img src=\"https://colab.research.google.com/assets/colab-badge.svg\" alt=\"Open In Colab\"/></a>"
      ]
    },
    {
      "cell_type": "markdown",
      "source": [
        "# Prediction Of IC50 Values Of Antioxidant And Antibacterial Compounds\n",
        "\n",
        "\n",
        "CONTENT\n",
        "\n",
        "1. Packages & Libraries\n",
        "\n",
        "2. Data Processing\n",
        "  - Main Data\n",
        "  - PubChem search & extracting molecular properties\n",
        "  - Data with features (molecular)\n",
        "  - Fingerprint processing\n",
        "  - Scaling data \n",
        "\n",
        "3. Machine learning regression models (Dummy Model)\n",
        "  - Simple Linear Regression\n",
        "  - Stochastic Gradient Descent Regressors (SGDr)\n",
        "\n",
        "4. Neural Network\n",
        "  - Multi-layer Perceptron"
      ],
      "metadata": {
        "id": "m6F7x2Nfcpqr"
      }
    },
    {
      "cell_type": "markdown",
      "source": [
        "## Packages & Libraries"
      ],
      "metadata": {
        "id": "_iFy5THnehxC"
      }
    },
    {
      "cell_type": "code",
      "metadata": {
        "colab": {
          "base_uri": "https://localhost:8080/"
        },
        "id": "9NaDFAZLfWiS",
        "outputId": "bd72eb13-3b80-46bd-939b-0a6dbf7197b6"
      },
      "source": [
        "! pip install pubchempy\n",
        "! pip install biopython"
      ],
      "execution_count": 38,
      "outputs": [
        {
          "output_type": "stream",
          "name": "stdout",
          "text": [
            "Requirement already satisfied: pubchempy in /usr/local/lib/python3.7/dist-packages (1.0.4)\n",
            "Requirement already satisfied: biopython in /usr/local/lib/python3.7/dist-packages (1.79)\n",
            "Requirement already satisfied: numpy in /usr/local/lib/python3.7/dist-packages (from biopython) (1.19.5)\n"
          ]
        }
      ]
    },
    {
      "cell_type": "code",
      "metadata": {
        "id": "bX1K9B9ObyfN"
      },
      "source": [
        "import pandas as pd\n",
        "import numpy as np\n",
        "import pubchempy as pcp\n",
        "import re\n",
        "from tqdm import tqdm\n",
        "\n",
        "from sklearn.linear_model import LinearRegression\n",
        "from sklearn.model_selection import train_test_split, cross_val_score\n",
        "from sklearn.metrics import mean_squared_error, mean_absolute_error, r2_score\n",
        "from sklearn.preprocessing import MinMaxScaler, StandardScaler, Normalizer\n",
        "\n",
        "import seaborn as sns\n",
        "import matplotlib.pyplot as plt "
      ],
      "execution_count": 39,
      "outputs": []
    },
    {
      "cell_type": "markdown",
      "source": [
        "## Data Processing"
      ],
      "metadata": {
        "id": "28fRZg4kemRy"
      }
    },
    {
      "cell_type": "markdown",
      "source": [
        "### Main Data"
      ],
      "metadata": {
        "id": "UVGYnPF9erxi"
      }
    },
    {
      "cell_type": "code",
      "metadata": {
        "id": "TYvE0mtYcKLZ"
      },
      "source": [
        "smiles_compounds = list()\n",
        "\n",
        "with open(\"/content/drive/MyDrive/Current-Work/ML-Chemistry-Department-2021/SMILES.txt\", \"r\") as file:\n",
        "\n",
        "  for lines in file:\n",
        "\n",
        "    smile = lines.split('\\t')[0].rstrip()\n",
        "    comp = lines.split('\\t')[1].rstrip()\n",
        "\n",
        "    smiles_compounds.append((comp, smile))\n",
        "\n",
        "smiles_compounds = np.array(smiles_compounds)\n",
        "\n",
        "data = pd.DataFrame(smiles_compounds, columns=['CompName', 'SMILES'])    "
      ],
      "execution_count": 40,
      "outputs": []
    },
    {
      "cell_type": "code",
      "metadata": {
        "colab": {
          "base_uri": "https://localhost:8080/",
          "height": 0
        },
        "id": "ASGE0j_8mw_y",
        "outputId": "8e22cb94-fefa-4845-ef3b-770ddceccec8"
      },
      "source": [
        "data.head()"
      ],
      "execution_count": 41,
      "outputs": [
        {
          "output_type": "execute_result",
          "data": {
            "text/html": [
              "<div>\n",
              "<style scoped>\n",
              "    .dataframe tbody tr th:only-of-type {\n",
              "        vertical-align: middle;\n",
              "    }\n",
              "\n",
              "    .dataframe tbody tr th {\n",
              "        vertical-align: top;\n",
              "    }\n",
              "\n",
              "    .dataframe thead th {\n",
              "        text-align: right;\n",
              "    }\n",
              "</style>\n",
              "<table border=\"1\" class=\"dataframe\">\n",
              "  <thead>\n",
              "    <tr style=\"text-align: right;\">\n",
              "      <th></th>\n",
              "      <th>CompName</th>\n",
              "      <th>SMILES</th>\n",
              "    </tr>\n",
              "  </thead>\n",
              "  <tbody>\n",
              "    <tr>\n",
              "      <th>0</th>\n",
              "      <td>Apigenin-6-C-glucoside</td>\n",
              "      <td>O=C1C=C(C3=CC=C(O[H])C=C3)OC2=C1C(O[H])=C([C@@...</td>\n",
              "    </tr>\n",
              "    <tr>\n",
              "      <th>1</th>\n",
              "      <td>Argentinine</td>\n",
              "      <td>CN(C)CCC1=CC(O[H])=C(OC)C3=C1C=CC2=CC=CC=C23</td>\n",
              "    </tr>\n",
              "    <tr>\n",
              "      <th>2</th>\n",
              "      <td>Catechin</td>\n",
              "      <td>[H]OC1=C2C(O[C@@H]([C@]3=CC(O[H])=C(O[H])C=C3)...</td>\n",
              "    </tr>\n",
              "    <tr>\n",
              "      <th>3</th>\n",
              "      <td>Epicatechin</td>\n",
              "      <td>[H]OC1=C2C(O[C@H]([C@]3=CC(O[H])=C(O[H])C=C3)[...</td>\n",
              "    </tr>\n",
              "    <tr>\n",
              "      <th>4</th>\n",
              "      <td>Homoorientin</td>\n",
              "      <td>O=C1C=C(C3=CC(O[H])=C(O[H])C=C3)OC2=C1C(O[H])=...</td>\n",
              "    </tr>\n",
              "  </tbody>\n",
              "</table>\n",
              "</div>"
            ],
            "text/plain": [
              "                 CompName                                             SMILES\n",
              "0  Apigenin-6-C-glucoside  O=C1C=C(C3=CC=C(O[H])C=C3)OC2=C1C(O[H])=C([C@@...\n",
              "1             Argentinine       CN(C)CCC1=CC(O[H])=C(OC)C3=C1C=CC2=CC=CC=C23\n",
              "2                Catechin  [H]OC1=C2C(O[C@@H]([C@]3=CC(O[H])=C(O[H])C=C3)...\n",
              "3             Epicatechin  [H]OC1=C2C(O[C@H]([C@]3=CC(O[H])=C(O[H])C=C3)[...\n",
              "4            Homoorientin  O=C1C=C(C3=CC(O[H])=C(O[H])C=C3)OC2=C1C(O[H])=..."
            ]
          },
          "metadata": {},
          "execution_count": 41
        }
      ]
    },
    {
      "cell_type": "markdown",
      "source": [
        "### PubChem search & extracting molecular properties"
      ],
      "metadata": {
        "id": "HD5QsthCezGq"
      }
    },
    {
      "cell_type": "code",
      "metadata": {
        "id": "GIJVOmGufesY"
      },
      "source": [
        "def PubChemCID(SMILE):\n",
        "  \"\"\"\n",
        "  Returns PubChem CID (ID) of given compound by SMILE\n",
        "  \"\"\"\n",
        "  cid = pcp.get_compounds(SMILE, 'smiles')\n",
        "  cid_extracted = re.findall(r'\\d+', str(cid[0]))\n",
        "\n",
        "  if len(cid_extracted)>=1:\n",
        "    return cid_extracted[0]\n",
        "  else:\n",
        "    return str(\"IDENTICAL_COMPOUND_ABSENT\")"
      ],
      "execution_count": 42,
      "outputs": []
    },
    {
      "cell_type": "code",
      "metadata": {
        "colab": {
          "base_uri": "https://localhost:8080/"
        },
        "id": "_DP2fLYVfpPR",
        "outputId": "45869a90-0615-4b54-b223-1b3e90a987a9"
      },
      "source": [
        "meta_data = list()\n",
        "\n",
        "for name, smile in tqdm(zip(data.CompName, data.SMILES)):\n",
        "\n",
        "  pubcid = PubChemCID(smile)\n",
        "\n",
        "  if pubcid != 'IDENTICAL_COMPOUND_ABSENT':\n",
        "\n",
        "    compound = pcp.Compound.from_cid(pubcid)\n",
        "\n",
        "    comp_logp = compound.xlogp\n",
        "\n",
        "    ele_charge = compound.charge\n",
        "\n",
        "    mol_mass = compound.exact_mass\n",
        "\n",
        "    rotat_bond = compound.rotatable_bond_count\n",
        "\n",
        "    iso_smile = compound.isomeric_smiles\n",
        "\n",
        "    h_acceptor = compound.h_bond_acceptor_count\n",
        "\n",
        "    h_donor = compound.h_bond_donor_count\n",
        "\n",
        "    fingerprint = compound.fingerprint\n",
        "\n",
        "    heavy_atom = compound.heavy_atom_count\n",
        "\n",
        "    cac_fingerprint = compound.cactvs_fingerprint\n",
        "\n",
        "    can_smile = compound.canonical_smiles\n",
        "\n",
        "    meta_data.append((pubcid, name, heavy_atom, rotat_bond, ele_charge, \n",
        "                      mol_mass, h_donor, h_acceptor, comp_logp, \n",
        "                      can_smile, iso_smile, cac_fingerprint))\n",
        "  else:\n",
        "    print(pubcid, name)"
      ],
      "execution_count": 43,
      "outputs": [
        {
          "output_type": "stream",
          "name": "stderr",
          "text": [
            "23it [00:14,  1.54it/s]"
          ]
        },
        {
          "output_type": "stream",
          "name": "stdout",
          "text": [
            "IDENTICAL_COMPOUND_ABSENT Annonacin\n"
          ]
        },
        {
          "output_type": "stream",
          "name": "stderr",
          "text": [
            "31it [00:18,  1.64it/s]\n"
          ]
        }
      ]
    },
    {
      "cell_type": "code",
      "metadata": {
        "id": "lCJkzk_IpZXC"
      },
      "source": [
        "column_names = ['PubChem_CID', 'CompName', 'Heavy_Atom', 'Rotat_Bond', \n",
        "                'Ele_Charge', 'Mol_Mass', 'H_Donor', 'H_Acceptor', 'XLogP', \n",
        "                'Can_SMILE', 'Iso_SMILE', 'Cac_Fingerprint']\n",
        "\n",
        "meta_data = np.array(meta_data)\n",
        "\n",
        "compounds_meta_data= pd.DataFrame(meta_data, columns=column_names)                        "
      ],
      "execution_count": 44,
      "outputs": []
    },
    {
      "cell_type": "code",
      "metadata": {
        "id": "6tIH7TG9vOxz"
      },
      "source": [
        "compounds_meta_data[\"Heavy_Atom\"] = compounds_meta_data[\"Heavy_Atom\"].astype('int32')\n",
        "compounds_meta_data[\"Rotat_Bond\"] = compounds_meta_data[\"Rotat_Bond\"].astype('int32')\n",
        "compounds_meta_data[\"Ele_Charge\"] = compounds_meta_data[\"Ele_Charge\"].astype('float32')\n",
        "compounds_meta_data[\"Mol_Mass\"] = compounds_meta_data[\"Mol_Mass\"].astype('float32')\n",
        "compounds_meta_data[\"H_Donor\"] = compounds_meta_data[\"H_Donor\"].astype('int32')\n",
        "compounds_meta_data[\"H_Acceptor\"] = compounds_meta_data[\"H_Acceptor\"].astype('int32')\n",
        "compounds_meta_data[\"XLogP\"] = compounds_meta_data[\"XLogP\"].astype('float32')"
      ],
      "execution_count": 45,
      "outputs": []
    },
    {
      "cell_type": "markdown",
      "source": [
        "### Data with features (molecular)"
      ],
      "metadata": {
        "id": "rzf1L3JJfc3y"
      }
    },
    {
      "cell_type": "code",
      "source": [
        "compounds_meta_data.head()"
      ],
      "metadata": {
        "colab": {
          "base_uri": "https://localhost:8080/",
          "height": 0
        },
        "id": "mGapVEZ_as-j",
        "outputId": "b9ea876c-8866-4238-d86d-986f8360b746"
      },
      "execution_count": 46,
      "outputs": [
        {
          "output_type": "execute_result",
          "data": {
            "text/html": [
              "<div>\n",
              "<style scoped>\n",
              "    .dataframe tbody tr th:only-of-type {\n",
              "        vertical-align: middle;\n",
              "    }\n",
              "\n",
              "    .dataframe tbody tr th {\n",
              "        vertical-align: top;\n",
              "    }\n",
              "\n",
              "    .dataframe thead th {\n",
              "        text-align: right;\n",
              "    }\n",
              "</style>\n",
              "<table border=\"1\" class=\"dataframe\">\n",
              "  <thead>\n",
              "    <tr style=\"text-align: right;\">\n",
              "      <th></th>\n",
              "      <th>PubChem_CID</th>\n",
              "      <th>CompName</th>\n",
              "      <th>Heavy_Atom</th>\n",
              "      <th>Rotat_Bond</th>\n",
              "      <th>Ele_Charge</th>\n",
              "      <th>Mol_Mass</th>\n",
              "      <th>H_Donor</th>\n",
              "      <th>H_Acceptor</th>\n",
              "      <th>XLogP</th>\n",
              "      <th>Can_SMILE</th>\n",
              "      <th>Iso_SMILE</th>\n",
              "      <th>Cac_Fingerprint</th>\n",
              "    </tr>\n",
              "  </thead>\n",
              "  <tbody>\n",
              "    <tr>\n",
              "      <th>0</th>\n",
              "      <td>162350</td>\n",
              "      <td>Apigenin-6-C-glucoside</td>\n",
              "      <td>31</td>\n",
              "      <td>3</td>\n",
              "      <td>0.0</td>\n",
              "      <td>432.105652</td>\n",
              "      <td>7</td>\n",
              "      <td>10</td>\n",
              "      <td>0.2</td>\n",
              "      <td>C1=CC(=CC=C1C2=CC(=O)C3=C(O2)C=C(C(=C3O)C4C(C(...</td>\n",
              "      <td>C1=CC(=CC=C1C2=CC(=O)C3=C(O2)C=C(C(=C3O)[C@H]4...</td>\n",
              "      <td>1110000001111000001111000000000000000000000000...</td>\n",
              "    </tr>\n",
              "    <tr>\n",
              "      <th>1</th>\n",
              "      <td>10085878</td>\n",
              "      <td>Argentinine</td>\n",
              "      <td>22</td>\n",
              "      <td>4</td>\n",
              "      <td>0.0</td>\n",
              "      <td>295.157227</td>\n",
              "      <td>1</td>\n",
              "      <td>3</td>\n",
              "      <td>4.3</td>\n",
              "      <td>CN(C)CCC1=CC(=C(C2=C1C=CC3=CC=CC=C32)OC)O</td>\n",
              "      <td>CN(C)CCC1=CC(=C(C2=C1C=CC3=CC=CC=C32)OC)O</td>\n",
              "      <td>1110000001111010001100000000000000000000000000...</td>\n",
              "    </tr>\n",
              "    <tr>\n",
              "      <th>2</th>\n",
              "      <td>73160</td>\n",
              "      <td>Catechin</td>\n",
              "      <td>21</td>\n",
              "      <td>1</td>\n",
              "      <td>0.0</td>\n",
              "      <td>290.079041</td>\n",
              "      <td>5</td>\n",
              "      <td>6</td>\n",
              "      <td>0.4</td>\n",
              "      <td>C1C(C(OC2=CC(=CC(=C21)O)O)C3=CC(=C(C=C3)O)O)O</td>\n",
              "      <td>C1[C@H]([C@@H](OC2=CC(=CC(=C21)O)O)C3=CC(=C(C=...</td>\n",
              "      <td>1100000001110000001110000000000000000000000000...</td>\n",
              "    </tr>\n",
              "    <tr>\n",
              "      <th>3</th>\n",
              "      <td>72276</td>\n",
              "      <td>Epicatechin</td>\n",
              "      <td>21</td>\n",
              "      <td>1</td>\n",
              "      <td>0.0</td>\n",
              "      <td>290.079041</td>\n",
              "      <td>5</td>\n",
              "      <td>6</td>\n",
              "      <td>0.4</td>\n",
              "      <td>C1C(C(OC2=CC(=CC(=C21)O)O)C3=CC(=C(C=C3)O)O)O</td>\n",
              "      <td>C1[C@H]([C@H](OC2=CC(=CC(=C21)O)O)C3=CC(=C(C=C...</td>\n",
              "      <td>1100000001110000001110000000000000000000000000...</td>\n",
              "    </tr>\n",
              "    <tr>\n",
              "      <th>4</th>\n",
              "      <td>114776</td>\n",
              "      <td>Homoorientin</td>\n",
              "      <td>32</td>\n",
              "      <td>3</td>\n",
              "      <td>0.0</td>\n",
              "      <td>448.100555</td>\n",
              "      <td>8</td>\n",
              "      <td>11</td>\n",
              "      <td>-0.2</td>\n",
              "      <td>C1=CC(=C(C=C1C2=CC(=O)C3=C(O2)C=C(C(=C3O)C4C(C...</td>\n",
              "      <td>C1=CC(=C(C=C1C2=CC(=O)C3=C(O2)C=C(C(=C3O)[C@H]...</td>\n",
              "      <td>1110000001111000001111000000000000000000000000...</td>\n",
              "    </tr>\n",
              "  </tbody>\n",
              "</table>\n",
              "</div>"
            ],
            "text/plain": [
              "  PubChem_CID  ...                                    Cac_Fingerprint\n",
              "0      162350  ...  1110000001111000001111000000000000000000000000...\n",
              "1    10085878  ...  1110000001111010001100000000000000000000000000...\n",
              "2       73160  ...  1100000001110000001110000000000000000000000000...\n",
              "3       72276  ...  1100000001110000001110000000000000000000000000...\n",
              "4      114776  ...  1110000001111000001111000000000000000000000000...\n",
              "\n",
              "[5 rows x 12 columns]"
            ]
          },
          "metadata": {},
          "execution_count": 46
        }
      ]
    },
    {
      "cell_type": "code",
      "metadata": {
        "colab": {
          "base_uri": "https://localhost:8080/",
          "height": 0
        },
        "id": "NomwurZYuaU7",
        "outputId": "4e039876-65d8-4087-90cd-46a8c2a85e19"
      },
      "source": [
        "compounds_meta_data.describe()"
      ],
      "execution_count": 47,
      "outputs": [
        {
          "output_type": "execute_result",
          "data": {
            "text/html": [
              "<div>\n",
              "<style scoped>\n",
              "    .dataframe tbody tr th:only-of-type {\n",
              "        vertical-align: middle;\n",
              "    }\n",
              "\n",
              "    .dataframe tbody tr th {\n",
              "        vertical-align: top;\n",
              "    }\n",
              "\n",
              "    .dataframe thead th {\n",
              "        text-align: right;\n",
              "    }\n",
              "</style>\n",
              "<table border=\"1\" class=\"dataframe\">\n",
              "  <thead>\n",
              "    <tr style=\"text-align: right;\">\n",
              "      <th></th>\n",
              "      <th>Heavy_Atom</th>\n",
              "      <th>Rotat_Bond</th>\n",
              "      <th>Ele_Charge</th>\n",
              "      <th>Mol_Mass</th>\n",
              "      <th>H_Donor</th>\n",
              "      <th>H_Acceptor</th>\n",
              "      <th>XLogP</th>\n",
              "    </tr>\n",
              "  </thead>\n",
              "  <tbody>\n",
              "    <tr>\n",
              "      <th>count</th>\n",
              "      <td>30.00000</td>\n",
              "      <td>30.000000</td>\n",
              "      <td>30.0</td>\n",
              "      <td>30.000000</td>\n",
              "      <td>30.000000</td>\n",
              "      <td>30.000000</td>\n",
              "      <td>30.000000</td>\n",
              "    </tr>\n",
              "    <tr>\n",
              "      <th>mean</th>\n",
              "      <td>24.50000</td>\n",
              "      <td>3.666667</td>\n",
              "      <td>0.0</td>\n",
              "      <td>342.219574</td>\n",
              "      <td>4.700000</td>\n",
              "      <td>7.166667</td>\n",
              "      <td>1.270000</td>\n",
              "    </tr>\n",
              "    <tr>\n",
              "      <th>std</th>\n",
              "      <td>10.09182</td>\n",
              "      <td>3.546084</td>\n",
              "      <td>0.0</td>\n",
              "      <td>144.977921</td>\n",
              "      <td>3.120013</td>\n",
              "      <td>4.676304</td>\n",
              "      <td>2.835751</td>\n",
              "    </tr>\n",
              "    <tr>\n",
              "      <th>min</th>\n",
              "      <td>11.00000</td>\n",
              "      <td>0.000000</td>\n",
              "      <td>0.0</td>\n",
              "      <td>150.104462</td>\n",
              "      <td>0.000000</td>\n",
              "      <td>1.000000</td>\n",
              "      <td>-5.000000</td>\n",
              "    </tr>\n",
              "    <tr>\n",
              "      <th>25%</th>\n",
              "      <td>20.00000</td>\n",
              "      <td>1.000000</td>\n",
              "      <td>0.0</td>\n",
              "      <td>265.614197</td>\n",
              "      <td>2.250000</td>\n",
              "      <td>4.000000</td>\n",
              "      <td>-0.575000</td>\n",
              "    </tr>\n",
              "    <tr>\n",
              "      <th>50%</th>\n",
              "      <td>22.00000</td>\n",
              "      <td>3.000000</td>\n",
              "      <td>0.0</td>\n",
              "      <td>302.042664</td>\n",
              "      <td>4.000000</td>\n",
              "      <td>6.000000</td>\n",
              "      <td>1.050000</td>\n",
              "    </tr>\n",
              "    <tr>\n",
              "      <th>75%</th>\n",
              "      <td>31.00000</td>\n",
              "      <td>4.750000</td>\n",
              "      <td>0.0</td>\n",
              "      <td>431.674507</td>\n",
              "      <td>7.750000</td>\n",
              "      <td>10.750000</td>\n",
              "      <td>2.600000</td>\n",
              "    </tr>\n",
              "    <tr>\n",
              "      <th>max</th>\n",
              "      <td>43.00000</td>\n",
              "      <td>16.000000</td>\n",
              "      <td>0.0</td>\n",
              "      <td>610.153381</td>\n",
              "      <td>10.000000</td>\n",
              "      <td>16.000000</td>\n",
              "      <td>10.700000</td>\n",
              "    </tr>\n",
              "  </tbody>\n",
              "</table>\n",
              "</div>"
            ],
            "text/plain": [
              "       Heavy_Atom  Rotat_Bond  Ele_Charge  ...    H_Donor  H_Acceptor      XLogP\n",
              "count    30.00000   30.000000        30.0  ...  30.000000   30.000000  30.000000\n",
              "mean     24.50000    3.666667         0.0  ...   4.700000    7.166667   1.270000\n",
              "std      10.09182    3.546084         0.0  ...   3.120013    4.676304   2.835751\n",
              "min      11.00000    0.000000         0.0  ...   0.000000    1.000000  -5.000000\n",
              "25%      20.00000    1.000000         0.0  ...   2.250000    4.000000  -0.575000\n",
              "50%      22.00000    3.000000         0.0  ...   4.000000    6.000000   1.050000\n",
              "75%      31.00000    4.750000         0.0  ...   7.750000   10.750000   2.600000\n",
              "max      43.00000   16.000000         0.0  ...  10.000000   16.000000  10.700000\n",
              "\n",
              "[8 rows x 7 columns]"
            ]
          },
          "metadata": {},
          "execution_count": 47
        }
      ]
    },
    {
      "cell_type": "code",
      "metadata": {
        "id": "nxveBXLQwwYU"
      },
      "source": [
        "compounds_meta_data.to_excel(\"compounds_molecular_properties_meta_data.xlsx\", \n",
        "                             sheet_name='IC50-Missing')  \n",
        "\n",
        "! cp -r /content/compounds_molecular_properties_meta_data.xlsx /content/drive/MyDrive/Current-Work/ML-Chemistry-Department-2021/"
      ],
      "execution_count": 48,
      "outputs": []
    },
    {
      "cell_type": "markdown",
      "metadata": {
        "id": "61t3TRqYYBDP"
      },
      "source": [
        "**DOUBT:**\n",
        "\n",
        "1. Does ChemDraw converts structures to SMILE differently? The compounds info after search by their name has different SMILE structure from what you have given in the .txt file"
      ]
    },
    {
      "cell_type": "markdown",
      "source": [
        "### Fingerprint processing"
      ],
      "metadata": {
        "id": "_bgscDsoa5JE"
      }
    },
    {
      "cell_type": "code",
      "metadata": {
        "colab": {
          "base_uri": "https://localhost:8080/"
        },
        "id": "nGuyqJgV1_op",
        "outputId": "71668e10-c972-43cc-a8ab-35283fe13217"
      },
      "source": [
        "fingerprint_values = np.zeros([len(compounds_meta_data), len(compounds_meta_data.Cac_Fingerprint[0])])\n",
        "\n",
        "for idx_i, fingerprint in tqdm(enumerate(compounds_meta_data.Cac_Fingerprint)):\n",
        "  for idx_j, letter in enumerate(fingerprint):\n",
        "    fingerprint_values[idx_i][idx_j] = np.int(letter)"
      ],
      "execution_count": 49,
      "outputs": [
        {
          "output_type": "stream",
          "name": "stderr",
          "text": [
            "30it [00:00, 1398.02it/s]\n"
          ]
        }
      ]
    },
    {
      "cell_type": "code",
      "metadata": {
        "id": "xyxfzOpy4ghQ"
      },
      "source": [
        "column_names_finger = [f\"fp{idx}\" for idx in range(len(compounds_meta_data.Cac_Fingerprint[0]))]\n",
        "\n",
        "compounds_feature_subset_2 = pd.DataFrame(fingerprint_values, columns=column_names_finger)\n",
        "\n",
        "compounds_feature_subset_1 = compounds_meta_data[['Heavy_Atom', 'Rotat_Bond', 'H_Donor', 'H_Acceptor', 'XLogP']]\n",
        "\n",
        "final_features = np.array(pd.concat([compounds_feature_subset_1, \n",
        "                            compounds_feature_subset_2],\n",
        "                           axis=1))"
      ],
      "execution_count": 50,
      "outputs": []
    },
    {
      "cell_type": "code",
      "metadata": {
        "colab": {
          "base_uri": "https://localhost:8080/"
        },
        "id": "FBxUWycX6Y2P",
        "outputId": "47dc1a87-144e-4326-ead9-ea847b486ea9"
      },
      "source": [
        "final_features"
      ],
      "execution_count": 51,
      "outputs": [
        {
          "output_type": "execute_result",
          "data": {
            "text/plain": [
              "array([[31.,  3.,  7., ...,  0.,  0.,  0.],\n",
              "       [22.,  4.,  1., ...,  0.,  0.,  0.],\n",
              "       [21.,  1.,  5., ...,  0.,  0.,  0.],\n",
              "       ...,\n",
              "       [31., 12.,  1., ...,  0.,  0.,  0.],\n",
              "       [12.,  2.,  4., ...,  0.,  0.,  0.],\n",
              "       [22., 16.,  4., ...,  0.,  0.,  0.]])"
            ]
          },
          "metadata": {},
          "execution_count": 51
        }
      ]
    },
    {
      "cell_type": "markdown",
      "source": [
        "### Scaling data "
      ],
      "metadata": {
        "id": "XOJkIWV1a8ET"
      }
    },
    {
      "cell_type": "code",
      "metadata": {
        "id": "HE8SXNTM70bX"
      },
      "source": [
        "minmax = MinMaxScaler()"
      ],
      "execution_count": 52,
      "outputs": []
    },
    {
      "cell_type": "code",
      "metadata": {
        "id": "bxgwZJAi79Hf"
      },
      "source": [
        "X = minmax.fit_transform(final_features)\n",
        "\n",
        "y = np.array(compounds_meta_data['Mol_Mass']).reshape(-1, 1)\n",
        "y = minmax.fit_transform(y)"
      ],
      "execution_count": 53,
      "outputs": []
    },
    {
      "cell_type": "code",
      "metadata": {
        "colab": {
          "base_uri": "https://localhost:8080/"
        },
        "id": "gUDnRuAj9IOw",
        "outputId": "7a9c3595-7514-4c39-8ad7-6de81f372b92"
      },
      "source": [
        "X.shape"
      ],
      "execution_count": 54,
      "outputs": [
        {
          "output_type": "execute_result",
          "data": {
            "text/plain": [
              "(30, 886)"
            ]
          },
          "metadata": {},
          "execution_count": 54
        }
      ]
    },
    {
      "cell_type": "code",
      "metadata": {
        "colab": {
          "base_uri": "https://localhost:8080/"
        },
        "id": "x1CGUmnE9JaQ",
        "outputId": "bbd7680b-5e35-4f31-a7de-7b11b0ec2fd3"
      },
      "source": [
        "y.shape"
      ],
      "execution_count": 55,
      "outputs": [
        {
          "output_type": "execute_result",
          "data": {
            "text/plain": [
              "(30, 1)"
            ]
          },
          "metadata": {},
          "execution_count": 55
        }
      ]
    },
    {
      "cell_type": "code",
      "metadata": {
        "id": "1SdLNTPk9UN_"
      },
      "source": [
        "X_train, X_test, y_train, y_test = train_test_split(X, y, \n",
        "                                                    test_size=0.33, \n",
        "                                                    random_state=42)"
      ],
      "execution_count": 56,
      "outputs": []
    },
    {
      "cell_type": "markdown",
      "source": [
        "## Machine learning regression models (Dummy Model)"
      ],
      "metadata": {
        "id": "Bb0Ps0CdV0sP"
      }
    },
    {
      "cell_type": "markdown",
      "source": [
        "### Simple Linear Regression"
      ],
      "metadata": {
        "id": "bJzBk6wYfxvS"
      }
    },
    {
      "cell_type": "code",
      "metadata": {
        "colab": {
          "base_uri": "https://localhost:8080/"
        },
        "id": "iGhm6_sDA3A7",
        "outputId": "15049268-d1cb-4a8d-91b0-a157c751e01a"
      },
      "source": [
        "linreg = LinearRegression()\n",
        "\n",
        "linreg.fit(X_train, y_train)\n",
        "\n",
        "score = linreg.score(X_train, y_train)\n",
        "print(\"R-squared:\", score)\n",
        "\n",
        "# cv_score = cross_val_score(lsvr, x, y, cv=5)\n",
        "# print(\"CV mean score: \", cv_score.mean())\n",
        "\n",
        "y_pred = linreg.predict(X_test)\n",
        "\n",
        "mse = mean_squared_error(y_test, y_pred)\n",
        "print(\"MSE: \", mse)\n",
        "print(\"RMSE: \", mse**(1/2.0))"
      ],
      "execution_count": 57,
      "outputs": [
        {
          "output_type": "stream",
          "name": "stdout",
          "text": [
            "R-squared: 1.0\n",
            "MSE:  0.03017317167334852\n",
            "RMSE:  0.17370426498318492\n"
          ]
        }
      ]
    },
    {
      "cell_type": "code",
      "metadata": {
        "colab": {
          "base_uri": "https://localhost:8080/",
          "height": 295
        },
        "id": "ameoF7FwGSEq",
        "outputId": "9e4904f9-e8ae-4483-e040-3599ed68f264"
      },
      "source": [
        "sns.regplot(x=y_train, y=linreg.predict(X_train))\n",
        "plt.grid()\n",
        "plt.xlabel('Actual')\n",
        "plt.ylabel('Predicted')\n",
        "plt.title('Molecular Mass (TRAIN)')\n",
        "plt.savefig('pred_act_train_molecular_mass.jpg')\n",
        "plt.show()"
      ],
      "execution_count": 58,
      "outputs": [
        {
          "output_type": "display_data",
          "data": {
            "image/png": "[encoded data removed]",
            "text/plain": [
              "<Figure size 432x288 with 1 Axes>"
            ]
          },
          "metadata": {
            "needs_background": "light"
          }
        }
      ]
    },
    {
      "cell_type": "code",
      "metadata": {
        "colab": {
          "base_uri": "https://localhost:8080/",
          "height": 295
        },
        "id": "J1MaKhPIEo2A",
        "outputId": "711de7d1-331c-4482-e5a4-86bc36d39314"
      },
      "source": [
        "sns.regplot(x=y_test, y=linreg.predict(X_test))\n",
        "plt.grid()\n",
        "plt.xlabel('Actual')\n",
        "plt.ylabel('Predicted')\n",
        "plt.title('Molecular Mass (TEST)')\n",
        "plt.savefig('pred_act_test_molecular_mass.jpg')\n",
        "plt.show()"
      ],
      "execution_count": 59,
      "outputs": [
        {
          "output_type": "display_data",
          "data": {
            "image/png": "[encoded data removed]",
            "text/plain": [
              "<Figure size 432x288 with 1 Axes>"
            ]
          },
          "metadata": {
            "needs_background": "light"
          }
        }
      ]
    },
    {
      "cell_type": "markdown",
      "source": [
        "### Stochastic Gradient Descent Regressors (SGDr)\n"
      ],
      "metadata": {
        "id": "V0vQnX4OV2zV"
      }
    },
    {
      "cell_type": "code",
      "source": [
        "from sklearn.linear_model import SGDRegressor\n",
        "\n",
        "sgd = SGDRegressor(penalty='l1', alpha=0.001)\n",
        "\n",
        "sgd.fit(X_train, y_train)\n",
        "\n",
        "score = sgd.score(X_train, y_train)\n",
        "print(\"R-squared:\", score)\n",
        "\n",
        "# cv_score = cross_val_score(lsvr, x, y, cv=5)\n",
        "# print(\"CV mean score: \", cv_score.mean())\n",
        "\n",
        "y_pred = sgd.predict(X_test)\n",
        "\n",
        "mse = mean_squared_error(y_test, y_pred)"
      ],
      "metadata": {
        "colab": {
          "base_uri": "https://localhost:8080/"
        },
        "id": "LmCZMhStV6zW",
        "outputId": "b37fe8e2-658b-4c26-bd19-b59247c19408"
      },
      "execution_count": 60,
      "outputs": [
        {
          "output_type": "stream",
          "name": "stdout",
          "text": [
            "R-squared: 0.9543599568840185\n"
          ]
        },
        {
          "output_type": "stream",
          "name": "stderr",
          "text": [
            "/usr/local/lib/python3.7/dist-packages/sklearn/utils/validation.py:985: DataConversionWarning: A column-vector y was passed when a 1d array was expected. Please change the shape of y to (n_samples, ), for example using ravel().\n",
            "  y = column_or_1d(y, warn=True)\n"
          ]
        }
      ]
    },
    {
      "cell_type": "code",
      "source": [
        "print(\"MSE: \", mse)\n",
        "print(\"RMSE: \", np.sqrt(mse))"
      ],
      "metadata": {
        "colab": {
          "base_uri": "https://localhost:8080/"
        },
        "id": "vCJtybhZXJun",
        "outputId": "e4187f18-48d1-4d2a-ce0e-3172375d0918"
      },
      "execution_count": 61,
      "outputs": [
        {
          "output_type": "stream",
          "name": "stdout",
          "text": [
            "MSE:  0.03777353163565495\n",
            "RMSE:  0.19435413974406346\n"
          ]
        }
      ]
    },
    {
      "cell_type": "code",
      "metadata": {
        "colab": {
          "base_uri": "https://localhost:8080/",
          "height": 295
        },
        "outputId": "9566d05c-6401-4a9d-bb45-4c74668687ca",
        "id": "QzK3J3GiW8qf"
      },
      "source": [
        "sns.regplot(x=y_train, y=sgd.predict(X_train), scatter_kws={\"color\": \"black\"}, line_kws={\"color\": \"red\"})\n",
        "plt.grid()\n",
        "plt.xlabel('Actual')\n",
        "plt.ylabel('Predicted')\n",
        "plt.title('Molecular Mass (TRAIN)')\n",
        "plt.savefig('pred_act_train_molecular_mass.jpg')\n",
        "plt.show()"
      ],
      "execution_count": 62,
      "outputs": [
        {
          "output_type": "display_data",
          "data": {
            "image/png": "[encoded data removed]",
            "text/plain": [
              "<Figure size 432x288 with 1 Axes>"
            ]
          },
          "metadata": {
            "needs_background": "light"
          }
        }
      ]
    },
    {
      "cell_type": "code",
      "metadata": {
        "colab": {
          "base_uri": "https://localhost:8080/",
          "height": 295
        },
        "outputId": "b8b7eebe-afc9-4eb8-8f0d-1b3496d2959c",
        "id": "yD_Gjk0UW8qi"
      },
      "source": [
        "sns.regplot(x=y_test, y=sgd.predict(X_test), scatter_kws={\"color\": \"black\"}, line_kws={\"color\": \"red\"})\n",
        "plt.grid()\n",
        "plt.xlabel('Actual')\n",
        "plt.ylabel('Predicted')\n",
        "plt.title('Molecular Mass (TEST)')\n",
        "plt.savefig('pred_act_test_molecular_mass.jpg')\n",
        "plt.show()"
      ],
      "execution_count": 63,
      "outputs": [
        {
          "output_type": "display_data",
          "data": {
            "image/png": "[encoded data removed]",
            "text/plain": [
              "<Figure size 432x288 with 1 Axes>"
            ]
          },
          "metadata": {
            "needs_background": "light"
          }
        }
      ]
    }
  ]
}