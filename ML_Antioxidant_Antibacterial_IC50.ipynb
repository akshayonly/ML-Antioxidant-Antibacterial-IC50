{
  "nbformat": 4,
  "nbformat_minor": 0,
  "metadata": {
    "colab": {
      "name": "ML-Antioxidant-Antibacterial-IC50.ipynb",
      "provenance": [],
      "collapsed_sections": [],
      "mount_file_id": "1gEbHa4T1u48gI2tAAAYOflvceXnTQT75",
      "authorship_tag": "ABX9TyOZXVB9S6VYJvrRBAe3hbTr",
      "include_colab_link": true
    },
    "kernelspec": {
      "name": "python3",
      "display_name": "Python 3"
    },
    "language_info": {
      "name": "python"
    }
  },
  "cells": [
    {
      "cell_type": "markdown",
      "metadata": {
        "id": "view-in-github",
        "colab_type": "text"
      },
      "source": [
        "<a href=\"https://colab.research.google.com/github/akshayonly/ML-Antioxidant-Antibacterial-IC50/blob/main/ML_Antioxidant_Antibacterial_IC50.ipynb\" target=\"_parent\"><img src=\"https://colab.research.google.com/assets/colab-badge.svg\" alt=\"Open In Colab\"/></a>"
      ]
    },
    {
      "cell_type": "code",
      "metadata": {
        "colab": {
          "base_uri": "https://localhost:8080/"
        },
        "id": "9NaDFAZLfWiS",
        "outputId": "715b2381-a57f-4b8d-f8b0-389af248c3a5"
      },
      "source": [
        "! pip install pubchempy\n",
        "! pip install biopython"
      ],
      "execution_count": 1,
      "outputs": [
        {
          "output_type": "stream",
          "name": "stdout",
          "text": [
            "Collecting pubchempy\n",
            "  Downloading PubChemPy-1.0.4.tar.gz (29 kB)\n",
            "Building wheels for collected packages: pubchempy\n",
            "  Building wheel for pubchempy (setup.py) ... \u001b[?25l\u001b[?25hdone\n",
            "  Created wheel for pubchempy: filename=PubChemPy-1.0.4-py3-none-any.whl size=13835 sha256=498d84c25adfdcbba7b76c4fd62c27e06f401685d89ad2cb77e653c38224e0cd\n",
            "  Stored in directory: /root/.cache/pip/wheels/7c/3d/8c/8192697412e9899dc55bbbb08bbc1197bef333caaa2a71c448\n",
            "Successfully built pubchempy\n",
            "Installing collected packages: pubchempy\n",
            "Successfully installed pubchempy-1.0.4\n",
            "Collecting biopython\n",
            "  Downloading biopython-1.79-cp37-cp37m-manylinux_2_5_x86_64.manylinux1_x86_64.whl (2.3 MB)\n",
            "\u001b[K     |████████████████████████████████| 2.3 MB 36.5 MB/s \n",
            "\u001b[?25hRequirement already satisfied: numpy in /usr/local/lib/python3.7/dist-packages (from biopython) (1.19.5)\n",
            "Installing collected packages: biopython\n",
            "Successfully installed biopython-1.79\n"
          ]
        }
      ]
    },
    {
      "cell_type": "code",
      "metadata": {
        "id": "bX1K9B9ObyfN"
      },
      "source": [
        "import pandas as pd\n",
        "import numpy as np\n",
        "import pubchempy as pcp\n",
        "import re\n",
        "from tqdm import tqdm\n",
        "\n",
        "from sklearn.linear_model import LinearRegression\n",
        "from sklearn.model_selection import train_test_split, cross_val_score\n",
        "from sklearn.metrics import mean_squared_error, mean_absolute_error, r2_score\n",
        "from sklearn.preprocessing import MinMaxScaler, StandardScaler, Normalizer\n",
        "\n",
        "import seaborn as sns\n",
        "import matplotlib.pyplot as plt "
      ],
      "execution_count": 2,
      "outputs": []
    },
    {
      "cell_type": "code",
      "metadata": {
        "id": "TYvE0mtYcKLZ"
      },
      "source": [
        "smiles_compounds = list()\n",
        "\n",
        "with open(\"/content/drive/MyDrive/Current-Work/ML-Chemistry-Department-2021/SMILES.txt\", \"r\") as file:\n",
        "\n",
        "  for lines in file:\n",
        "\n",
        "    smile = lines.split('\\t')[0].rstrip()\n",
        "    comp = lines.split('\\t')[1].rstrip()\n",
        "\n",
        "    smiles_compounds.append((comp, smile))"
      ],
      "execution_count": 3,
      "outputs": []
    },
    {
      "cell_type": "code",
      "metadata": {
        "id": "p5ry1nQFcnLZ"
      },
      "source": [
        "smiles_compounds = np.array(smiles_compounds)"
      ],
      "execution_count": 4,
      "outputs": []
    },
    {
      "cell_type": "code",
      "metadata": {
        "id": "IdZXQKgWd6Vp"
      },
      "source": [
        "data = pd.DataFrame(smiles_compounds, columns=['CompName', 'SMILES'])"
      ],
      "execution_count": 5,
      "outputs": []
    },
    {
      "cell_type": "code",
      "metadata": {
        "colab": {
          "base_uri": "https://localhost:8080/",
          "height": 206
        },
        "id": "ASGE0j_8mw_y",
        "outputId": "e2867fa4-8b99-4119-b6e4-1c93c80d2b23"
      },
      "source": [
        "data.head()"
      ],
      "execution_count": 6,
      "outputs": [
        {
          "output_type": "execute_result",
          "data": {
            "text/html": [
              "<div>\n",
              "<style scoped>\n",
              "    .dataframe tbody tr th:only-of-type {\n",
              "        vertical-align: middle;\n",
              "    }\n",
              "\n",
              "    .dataframe tbody tr th {\n",
              "        vertical-align: top;\n",
              "    }\n",
              "\n",
              "    .dataframe thead th {\n",
              "        text-align: right;\n",
              "    }\n",
              "</style>\n",
              "<table border=\"1\" class=\"dataframe\">\n",
              "  <thead>\n",
              "    <tr style=\"text-align: right;\">\n",
              "      <th></th>\n",
              "      <th>CompName</th>\n",
              "      <th>SMILES</th>\n",
              "    </tr>\n",
              "  </thead>\n",
              "  <tbody>\n",
              "    <tr>\n",
              "      <th>0</th>\n",
              "      <td>Apigenin-6-C-glucoside</td>\n",
              "      <td>O=C1C=C(C3=CC=C(O[H])C=C3)OC2=C1C(O[H])=C([C@@...</td>\n",
              "    </tr>\n",
              "    <tr>\n",
              "      <th>1</th>\n",
              "      <td>Argentinine</td>\n",
              "      <td>CN(C)CCC1=CC(O[H])=C(OC)C3=C1C=CC2=CC=CC=C23</td>\n",
              "    </tr>\n",
              "    <tr>\n",
              "      <th>2</th>\n",
              "      <td>Catechin</td>\n",
              "      <td>[H]OC1=C2C(O[C@@H]([C@]3=CC(O[H])=C(O[H])C=C3)...</td>\n",
              "    </tr>\n",
              "    <tr>\n",
              "      <th>3</th>\n",
              "      <td>Epicatechin</td>\n",
              "      <td>[H]OC1=C2C(O[C@H]([C@]3=CC(O[H])=C(O[H])C=C3)[...</td>\n",
              "    </tr>\n",
              "    <tr>\n",
              "      <th>4</th>\n",
              "      <td>Homoorientin</td>\n",
              "      <td>O=C1C=C(C3=CC(O[H])=C(O[H])C=C3)OC2=C1C(O[H])=...</td>\n",
              "    </tr>\n",
              "  </tbody>\n",
              "</table>\n",
              "</div>"
            ],
            "text/plain": [
              "                 CompName                                             SMILES\n",
              "0  Apigenin-6-C-glucoside  O=C1C=C(C3=CC=C(O[H])C=C3)OC2=C1C(O[H])=C([C@@...\n",
              "1             Argentinine       CN(C)CCC1=CC(O[H])=C(OC)C3=C1C=CC2=CC=CC=C23\n",
              "2                Catechin  [H]OC1=C2C(O[C@@H]([C@]3=CC(O[H])=C(O[H])C=C3)...\n",
              "3             Epicatechin  [H]OC1=C2C(O[C@H]([C@]3=CC(O[H])=C(O[H])C=C3)[...\n",
              "4            Homoorientin  O=C1C=C(C3=CC(O[H])=C(O[H])C=C3)OC2=C1C(O[H])=..."
            ]
          },
          "metadata": {},
          "execution_count": 6
        }
      ]
    },
    {
      "cell_type": "code",
      "source": [
        "data.SMILES[22]"
      ],
      "metadata": {
        "colab": {
          "base_uri": "https://localhost:8080/",
          "height": 35
        },
        "id": "Q2V4wqNZIim3",
        "outputId": "9668e4b5-ad8c-4dcb-9311-ad75b70b1113"
      },
      "execution_count": 7,
      "outputs": [
        {
          "output_type": "execute_result",
          "data": {
            "application/vnd.google.colaboratory.intrinsic+json": {
              "type": "string"
            },
            "text/plain": [
              "'O=C1C(C[C@H](O)CCCCC[C@@H](O)CCCC[C@@H](O)C2O[C@@H]([C@H](O)CCCCCCCCCCCC)CC2)=C[C@H](C)O1'"
            ]
          },
          "metadata": {},
          "execution_count": 7
        }
      ]
    },
    {
      "cell_type": "code",
      "metadata": {
        "id": "GIJVOmGufesY"
      },
      "source": [
        "def PubChemCID(SMILE):\n",
        "  \"\"\"\n",
        "  Returns PubChem CID (ID) of given compound by SMILE\n",
        "  \"\"\"\n",
        "  cid = pcp.get_compounds(SMILE, 'smiles')\n",
        "  cid_extracted = re.findall(r'\\d+', str(cid[0]))\n",
        "\n",
        "  if len(cid_extracted)>=1:\n",
        "    return cid_extracted[0]\n",
        "  else:\n",
        "    return str(\"IDENTICAL_COMPOUND_ABSENT\")"
      ],
      "execution_count": 8,
      "outputs": []
    },
    {
      "cell_type": "code",
      "metadata": {
        "colab": {
          "base_uri": "https://localhost:8080/"
        },
        "id": "_DP2fLYVfpPR",
        "outputId": "04c8c61a-5f53-4313-9035-ebeabed91556"
      },
      "source": [
        "meta_data = list()\n",
        "\n",
        "for name, smile in tqdm(zip(data.CompName, data.SMILES)):\n",
        "\n",
        "  pubcid = PubChemCID(smile)\n",
        "\n",
        "  if pubcid != 'IDENTICAL_COMPOUND_ABSENT':\n",
        "\n",
        "    compound = pcp.Compound.from_cid(pubcid)\n",
        "\n",
        "    comp_logp = np.float32(compound.xlogp)\n",
        "\n",
        "    ele_charge = np.float32(compound.charge)\n",
        "\n",
        "    mol_mass = np.float32(compound.exact_mass)\n",
        "\n",
        "    rotat_bond = int(compound.rotatable_bond_count)\n",
        "\n",
        "    iso_smile = compound.isomeric_smiles\n",
        "\n",
        "    h_acceptor = int(compound.h_bond_acceptor_count)\n",
        "\n",
        "    h_donor = int(compound.h_bond_donor_count)\n",
        "\n",
        "    fingerprint = compound.fingerprint\n",
        "\n",
        "    heavy_atom = int(compound.heavy_atom_count)\n",
        "\n",
        "    cac_fingerprint = compound.cactvs_fingerprint\n",
        "\n",
        "    can_smile = compound.canonical_smiles\n",
        "\n",
        "    meta_data.append((pubcid, name, heavy_atom, rotat_bond, ele_charge, \n",
        "                      mol_mass, h_donor, h_acceptor, comp_logp, \n",
        "                      can_smile, iso_smile, cac_fingerprint))\n",
        "  else:\n",
        "    print(pubcid, name)"
      ],
      "execution_count": 9,
      "outputs": [
        {
          "output_type": "stream",
          "name": "stderr",
          "text": [
            "23it [00:13,  1.95it/s]"
          ]
        },
        {
          "output_type": "stream",
          "name": "stdout",
          "text": [
            "IDENTICAL_COMPOUND_ABSENT Annonacin\n"
          ]
        },
        {
          "output_type": "stream",
          "name": "stderr",
          "text": [
            "31it [00:17,  1.80it/s]\n"
          ]
        }
      ]
    },
    {
      "cell_type": "code",
      "metadata": {
        "id": "Npi7m_Hxh047"
      },
      "source": [
        "meta_data = np.array(meta_data)"
      ],
      "execution_count": 10,
      "outputs": []
    },
    {
      "cell_type": "code",
      "metadata": {
        "id": "lCJkzk_IpZXC"
      },
      "source": [
        "column_names = ['PubChem_CID', 'CompName', 'Heavy_Atom', 'Rotat_Bond', 'Ele_Charge',\n",
        "                        'Mol_Mass', 'H_Donor', 'H_Acceptor', 'XLogP',\n",
        "                        'Can_SMILE', 'Iso_SMILE', 'Cac_Fingerprint']"
      ],
      "execution_count": 11,
      "outputs": []
    },
    {
      "cell_type": "code",
      "metadata": {
        "id": "EiTrRnp2oFkZ"
      },
      "source": [
        "compounds_meta_data= pd.DataFrame(meta_data, columns=column_names)"
      ],
      "execution_count": 12,
      "outputs": []
    },
    {
      "cell_type": "code",
      "metadata": {
        "colab": {
          "base_uri": "https://localhost:8080/"
        },
        "id": "U1RekPtUqzJb",
        "outputId": "162e8977-9aab-46a3-c912-d13461d9b2d3"
      },
      "source": [
        "compounds_meta_data.info()"
      ],
      "execution_count": 13,
      "outputs": [
        {
          "output_type": "stream",
          "name": "stdout",
          "text": [
            "<class 'pandas.core.frame.DataFrame'>\n",
            "RangeIndex: 30 entries, 0 to 29\n",
            "Data columns (total 12 columns):\n",
            " #   Column           Non-Null Count  Dtype \n",
            "---  ------           --------------  ----- \n",
            " 0   PubChem_CID      30 non-null     object\n",
            " 1   CompName         30 non-null     object\n",
            " 2   Heavy_Atom       30 non-null     object\n",
            " 3   Rotat_Bond       30 non-null     object\n",
            " 4   Ele_Charge       30 non-null     object\n",
            " 5   Mol_Mass         30 non-null     object\n",
            " 6   H_Donor          30 non-null     object\n",
            " 7   H_Acceptor       30 non-null     object\n",
            " 8   XLogP            30 non-null     object\n",
            " 9   Can_SMILE        30 non-null     object\n",
            " 10  Iso_SMILE        30 non-null     object\n",
            " 11  Cac_Fingerprint  30 non-null     object\n",
            "dtypes: object(12)\n",
            "memory usage: 2.9+ KB\n"
          ]
        }
      ]
    },
    {
      "cell_type": "code",
      "metadata": {
        "id": "6tIH7TG9vOxz"
      },
      "source": [
        "compounds_meta_data[\"Heavy_Atom\"] = compounds_meta_data[\"Heavy_Atom\"].astype('int32')\n",
        "compounds_meta_data[\"Rotat_Bond\"] = compounds_meta_data[\"Rotat_Bond\"].astype('int32')\n",
        "compounds_meta_data[\"Ele_Charge\"] = compounds_meta_data[\"Ele_Charge\"].astype('float32')\n",
        "compounds_meta_data[\"Mol_Mass\"] = compounds_meta_data[\"Mol_Mass\"].astype('float32')\n",
        "compounds_meta_data[\"H_Donor\"] = compounds_meta_data[\"H_Donor\"].astype('int32')\n",
        "compounds_meta_data[\"H_Acceptor\"] = compounds_meta_data[\"H_Acceptor\"].astype('int32')\n",
        "compounds_meta_data[\"XLogP\"] = compounds_meta_data[\"XLogP\"].astype('float32')"
      ],
      "execution_count": 14,
      "outputs": []
    },
    {
      "cell_type": "code",
      "metadata": {
        "colab": {
          "base_uri": "https://localhost:8080/",
          "height": 300
        },
        "id": "NomwurZYuaU7",
        "outputId": "25847f0d-2074-4111-8a21-7f4265b4684d"
      },
      "source": [
        "compounds_meta_data.describe()"
      ],
      "execution_count": 15,
      "outputs": [
        {
          "output_type": "execute_result",
          "data": {
            "text/html": [
              "<div>\n",
              "<style scoped>\n",
              "    .dataframe tbody tr th:only-of-type {\n",
              "        vertical-align: middle;\n",
              "    }\n",
              "\n",
              "    .dataframe tbody tr th {\n",
              "        vertical-align: top;\n",
              "    }\n",
              "\n",
              "    .dataframe thead th {\n",
              "        text-align: right;\n",
              "    }\n",
              "</style>\n",
              "<table border=\"1\" class=\"dataframe\">\n",
              "  <thead>\n",
              "    <tr style=\"text-align: right;\">\n",
              "      <th></th>\n",
              "      <th>Heavy_Atom</th>\n",
              "      <th>Rotat_Bond</th>\n",
              "      <th>Ele_Charge</th>\n",
              "      <th>Mol_Mass</th>\n",
              "      <th>H_Donor</th>\n",
              "      <th>H_Acceptor</th>\n",
              "      <th>XLogP</th>\n",
              "    </tr>\n",
              "  </thead>\n",
              "  <tbody>\n",
              "    <tr>\n",
              "      <th>count</th>\n",
              "      <td>30.00000</td>\n",
              "      <td>30.000000</td>\n",
              "      <td>30.0</td>\n",
              "      <td>30.000000</td>\n",
              "      <td>30.000000</td>\n",
              "      <td>30.000000</td>\n",
              "      <td>30.000000</td>\n",
              "    </tr>\n",
              "    <tr>\n",
              "      <th>mean</th>\n",
              "      <td>24.50000</td>\n",
              "      <td>3.666667</td>\n",
              "      <td>0.0</td>\n",
              "      <td>342.219574</td>\n",
              "      <td>4.700000</td>\n",
              "      <td>7.166667</td>\n",
              "      <td>1.270000</td>\n",
              "    </tr>\n",
              "    <tr>\n",
              "      <th>std</th>\n",
              "      <td>10.09182</td>\n",
              "      <td>3.546084</td>\n",
              "      <td>0.0</td>\n",
              "      <td>144.977921</td>\n",
              "      <td>3.120013</td>\n",
              "      <td>4.676304</td>\n",
              "      <td>2.835751</td>\n",
              "    </tr>\n",
              "    <tr>\n",
              "      <th>min</th>\n",
              "      <td>11.00000</td>\n",
              "      <td>0.000000</td>\n",
              "      <td>0.0</td>\n",
              "      <td>150.104462</td>\n",
              "      <td>0.000000</td>\n",
              "      <td>1.000000</td>\n",
              "      <td>-5.000000</td>\n",
              "    </tr>\n",
              "    <tr>\n",
              "      <th>25%</th>\n",
              "      <td>20.00000</td>\n",
              "      <td>1.000000</td>\n",
              "      <td>0.0</td>\n",
              "      <td>265.614197</td>\n",
              "      <td>2.250000</td>\n",
              "      <td>4.000000</td>\n",
              "      <td>-0.575000</td>\n",
              "    </tr>\n",
              "    <tr>\n",
              "      <th>50%</th>\n",
              "      <td>22.00000</td>\n",
              "      <td>3.000000</td>\n",
              "      <td>0.0</td>\n",
              "      <td>302.042664</td>\n",
              "      <td>4.000000</td>\n",
              "      <td>6.000000</td>\n",
              "      <td>1.050000</td>\n",
              "    </tr>\n",
              "    <tr>\n",
              "      <th>75%</th>\n",
              "      <td>31.00000</td>\n",
              "      <td>4.750000</td>\n",
              "      <td>0.0</td>\n",
              "      <td>431.674507</td>\n",
              "      <td>7.750000</td>\n",
              "      <td>10.750000</td>\n",
              "      <td>2.600000</td>\n",
              "    </tr>\n",
              "    <tr>\n",
              "      <th>max</th>\n",
              "      <td>43.00000</td>\n",
              "      <td>16.000000</td>\n",
              "      <td>0.0</td>\n",
              "      <td>610.153381</td>\n",
              "      <td>10.000000</td>\n",
              "      <td>16.000000</td>\n",
              "      <td>10.700000</td>\n",
              "    </tr>\n",
              "  </tbody>\n",
              "</table>\n",
              "</div>"
            ],
            "text/plain": [
              "       Heavy_Atom  Rotat_Bond  Ele_Charge  ...    H_Donor  H_Acceptor      XLogP\n",
              "count    30.00000   30.000000        30.0  ...  30.000000   30.000000  30.000000\n",
              "mean     24.50000    3.666667         0.0  ...   4.700000    7.166667   1.270000\n",
              "std      10.09182    3.546084         0.0  ...   3.120013    4.676304   2.835751\n",
              "min      11.00000    0.000000         0.0  ...   0.000000    1.000000  -5.000000\n",
              "25%      20.00000    1.000000         0.0  ...   2.250000    4.000000  -0.575000\n",
              "50%      22.00000    3.000000         0.0  ...   4.000000    6.000000   1.050000\n",
              "75%      31.00000    4.750000         0.0  ...   7.750000   10.750000   2.600000\n",
              "max      43.00000   16.000000         0.0  ...  10.000000   16.000000  10.700000\n",
              "\n",
              "[8 rows x 7 columns]"
            ]
          },
          "metadata": {},
          "execution_count": 15
        }
      ]
    },
    {
      "cell_type": "code",
      "metadata": {
        "id": "nxveBXLQwwYU"
      },
      "source": [
        "compounds_meta_data.to_excel(\"compounds_molecular_properties_meta_data.xlsx\", \n",
        "                             sheet_name='IC50-Missing')  "
      ],
      "execution_count": 16,
      "outputs": []
    },
    {
      "cell_type": "code",
      "source": [
        "! cp -r /content/compounds_molecular_properties_meta_data.xlsx /content/drive/MyDrive/Current-Work/ML-Chemistry-Department-2021/"
      ],
      "metadata": {
        "id": "CADHlDlkYLKW"
      },
      "execution_count": 17,
      "outputs": []
    },
    {
      "cell_type": "code",
      "metadata": {
        "colab": {
          "base_uri": "https://localhost:8080/"
        },
        "id": "7bltky2vuZWz",
        "outputId": "7d407412-287a-4e9d-c176-ac6d22f09246"
      },
      "source": [
        "compounds_meta_data.info()"
      ],
      "execution_count": 18,
      "outputs": [
        {
          "output_type": "stream",
          "name": "stdout",
          "text": [
            "<class 'pandas.core.frame.DataFrame'>\n",
            "RangeIndex: 30 entries, 0 to 29\n",
            "Data columns (total 12 columns):\n",
            " #   Column           Non-Null Count  Dtype  \n",
            "---  ------           --------------  -----  \n",
            " 0   PubChem_CID      30 non-null     object \n",
            " 1   CompName         30 non-null     object \n",
            " 2   Heavy_Atom       30 non-null     int32  \n",
            " 3   Rotat_Bond       30 non-null     int32  \n",
            " 4   Ele_Charge       30 non-null     float32\n",
            " 5   Mol_Mass         30 non-null     float32\n",
            " 6   H_Donor          30 non-null     int32  \n",
            " 7   H_Acceptor       30 non-null     int32  \n",
            " 8   XLogP            30 non-null     float32\n",
            " 9   Can_SMILE        30 non-null     object \n",
            " 10  Iso_SMILE        30 non-null     object \n",
            " 11  Cac_Fingerprint  30 non-null     object \n",
            "dtypes: float32(3), int32(4), object(5)\n",
            "memory usage: 2.1+ KB\n"
          ]
        }
      ]
    },
    {
      "cell_type": "code",
      "metadata": {
        "id": "GUJiuVK4wyIj",
        "colab": {
          "base_uri": "https://localhost:8080/",
          "height": 454
        },
        "outputId": "366a5417-6ea0-4e07-fdfd-0e2e1029c08b"
      },
      "source": [
        "compounds_meta_data.hist()"
      ],
      "execution_count": 19,
      "outputs": [
        {
          "output_type": "execute_result",
          "data": {
            "text/plain": [
              "array([[<matplotlib.axes._subplots.AxesSubplot object at 0x7fd36355c190>,\n",
              "        <matplotlib.axes._subplots.AxesSubplot object at 0x7fd363531650>,\n",
              "        <matplotlib.axes._subplots.AxesSubplot object at 0x7fd3634e2c10>],\n",
              "       [<matplotlib.axes._subplots.AxesSubplot object at 0x7fd3634a0250>,\n",
              "        <matplotlib.axes._subplots.AxesSubplot object at 0x7fd363456850>,\n",
              "        <matplotlib.axes._subplots.AxesSubplot object at 0x7fd36340be50>],\n",
              "       [<matplotlib.axes._subplots.AxesSubplot object at 0x7fd3633cd510>,\n",
              "        <matplotlib.axes._subplots.AxesSubplot object at 0x7fd363384a50>,\n",
              "        <matplotlib.axes._subplots.AxesSubplot object at 0x7fd363384a90>]],\n",
              "      dtype=object)"
            ]
          },
          "metadata": {},
          "execution_count": 19
        },
        {
          "output_type": "display_data",
          "data": {
            "image/png": "[encoded data removed]",
            "text/plain": [
              "<Figure size 432x288 with 9 Axes>"
            ]
          },
          "metadata": {
            "needs_background": "light"
          }
        }
      ]
    },
    {
      "cell_type": "markdown",
      "metadata": {
        "id": "61t3TRqYYBDP"
      },
      "source": [
        "**NOTE:**\n",
        "\n",
        "1. Does ChemDraw converts structures to SMILE differently? The compounds info after search by their name has different SMILE structure from what you have given in the .txt file"
      ]
    },
    {
      "cell_type": "code",
      "metadata": {
        "colab": {
          "base_uri": "https://localhost:8080/"
        },
        "id": "nGuyqJgV1_op",
        "outputId": "6ea2ba46-ae54-41e8-cc77-0405e16fb328"
      },
      "source": [
        "fingerprint_values = np.zeros([len(compounds_meta_data), len(compounds_meta_data.Cac_Fingerprint[0])])\n",
        "\n",
        "for idx_i, fingerprint in tqdm(enumerate(compounds_meta_data.Cac_Fingerprint)):\n",
        "  for idx_j, letter in enumerate(fingerprint):\n",
        "    fingerprint_values[idx_i][idx_j] = np.int(letter)"
      ],
      "execution_count": 20,
      "outputs": [
        {
          "output_type": "stream",
          "name": "stderr",
          "text": [
            "30it [00:00, 1623.31it/s]\n"
          ]
        }
      ]
    },
    {
      "cell_type": "code",
      "metadata": {
        "id": "xyxfzOpy4ghQ"
      },
      "source": [
        "column_names_finger = [f\"fp{idx}\" for idx in range(len(compounds_meta_data.Cac_Fingerprint[0]))]\n",
        "\n",
        "compounds_feature_subset_2 = pd.DataFrame(fingerprint_values, columns=column_names_finger)\n",
        "\n",
        "compounds_feature_subset_1 = compounds_meta_data[['Heavy_Atom', 'Rotat_Bond', 'H_Donor', 'H_Acceptor', 'XLogP']]\n",
        "\n",
        "final_features = np.array(pd.concat([compounds_feature_subset_1, \n",
        "                            compounds_feature_subset_2],\n",
        "                           axis=1))"
      ],
      "execution_count": 21,
      "outputs": []
    },
    {
      "cell_type": "code",
      "metadata": {
        "colab": {
          "base_uri": "https://localhost:8080/"
        },
        "id": "FBxUWycX6Y2P",
        "outputId": "af03520a-2126-4fc6-bc29-1fb4a094a120"
      },
      "source": [
        "final_features"
      ],
      "execution_count": 22,
      "outputs": [
        {
          "output_type": "execute_result",
          "data": {
            "text/plain": [
              "array([[31.,  3.,  7., ...,  0.,  0.,  0.],\n",
              "       [22.,  4.,  1., ...,  0.,  0.,  0.],\n",
              "       [21.,  1.,  5., ...,  0.,  0.,  0.],\n",
              "       ...,\n",
              "       [31., 12.,  1., ...,  0.,  0.,  0.],\n",
              "       [12.,  2.,  4., ...,  0.,  0.,  0.],\n",
              "       [22., 16.,  4., ...,  0.,  0.,  0.]])"
            ]
          },
          "metadata": {},
          "execution_count": 22
        }
      ]
    },
    {
      "cell_type": "code",
      "metadata": {
        "id": "HE8SXNTM70bX"
      },
      "source": [
        "minmax = MinMaxScaler()"
      ],
      "execution_count": 23,
      "outputs": []
    },
    {
      "cell_type": "code",
      "metadata": {
        "id": "bxgwZJAi79Hf"
      },
      "source": [
        "X = minmax.fit_transform(final_features)\n",
        "\n",
        "y = np.array(compounds_meta_data['Mol_Mass']).reshape(-1, 1)\n",
        "y = minmax.fit_transform(y)"
      ],
      "execution_count": 24,
      "outputs": []
    },
    {
      "cell_type": "code",
      "metadata": {
        "colab": {
          "base_uri": "https://localhost:8080/"
        },
        "id": "gUDnRuAj9IOw",
        "outputId": "161b4272-f693-4b5c-94ae-a6effb4c850a"
      },
      "source": [
        "X.shape"
      ],
      "execution_count": 25,
      "outputs": [
        {
          "output_type": "execute_result",
          "data": {
            "text/plain": [
              "(30, 886)"
            ]
          },
          "metadata": {},
          "execution_count": 25
        }
      ]
    },
    {
      "cell_type": "code",
      "metadata": {
        "colab": {
          "base_uri": "https://localhost:8080/"
        },
        "id": "x1CGUmnE9JaQ",
        "outputId": "97855d24-7b53-4273-a4a7-ac874e986645"
      },
      "source": [
        "y.shape"
      ],
      "execution_count": 26,
      "outputs": [
        {
          "output_type": "execute_result",
          "data": {
            "text/plain": [
              "(30, 1)"
            ]
          },
          "metadata": {},
          "execution_count": 26
        }
      ]
    },
    {
      "cell_type": "code",
      "metadata": {
        "id": "1SdLNTPk9UN_"
      },
      "source": [
        "X_train, X_test, y_train, y_test = train_test_split(X, y, \n",
        "                                                    test_size=0.33, \n",
        "                                                    random_state=42)"
      ],
      "execution_count": 27,
      "outputs": []
    },
    {
      "cell_type": "markdown",
      "source": [
        "# LinearRegression"
      ],
      "metadata": {
        "id": "Bb0Ps0CdV0sP"
      }
    },
    {
      "cell_type": "code",
      "metadata": {
        "colab": {
          "base_uri": "https://localhost:8080/"
        },
        "id": "iGhm6_sDA3A7",
        "outputId": "62c6d40d-bfcf-44bd-c251-7390c3abb7fc"
      },
      "source": [
        "linreg = LinearRegression()\n",
        "\n",
        "linreg.fit(X_train, y_train)\n",
        "\n",
        "score = linreg.score(X_train, y_train)\n",
        "print(\"R-squared:\", score)\n",
        "\n",
        "# cv_score = cross_val_score(lsvr, x, y, cv=5)\n",
        "# print(\"CV mean score: \", cv_score.mean())\n",
        "\n",
        "y_pred = linreg.predict(X_test)\n",
        "\n",
        "mse = mean_squared_error(y_test, y_pred)\n",
        "print(\"MSE: \", mse)\n",
        "print(\"RMSE: \", mse**(1/2.0))"
      ],
      "execution_count": 28,
      "outputs": [
        {
          "output_type": "stream",
          "name": "stdout",
          "text": [
            "R-squared: 1.0\n",
            "MSE:  0.03017317167334852\n",
            "RMSE:  0.17370426498318492\n"
          ]
        }
      ]
    },
    {
      "cell_type": "code",
      "metadata": {
        "colab": {
          "base_uri": "https://localhost:8080/",
          "height": 295
        },
        "id": "ameoF7FwGSEq",
        "outputId": "d86e849a-54d9-4cd4-a51d-8da87cdd8cac"
      },
      "source": [
        "sns.regplot(x=y_train, y=linreg.predict(X_train))\n",
        "plt.grid()\n",
        "plt.xlabel('Actual')\n",
        "plt.ylabel('Predicted')\n",
        "plt.title('Predicted Mol. Mass Vs. Actual Mol. Mass (Train)')\n",
        "plt.savefig('pred_act_train_molecular_mass.jpg')\n",
        "plt.show()"
      ],
      "execution_count": 29,
      "outputs": [
        {
          "output_type": "display_data",
          "data": {
            "image/png": "[encoded data removed]",
            "text/plain": [
              "<Figure size 432x288 with 1 Axes>"
            ]
          },
          "metadata": {
            "needs_background": "light"
          }
        }
      ]
    },
    {
      "cell_type": "code",
      "metadata": {
        "colab": {
          "base_uri": "https://localhost:8080/",
          "height": 295
        },
        "id": "J1MaKhPIEo2A",
        "outputId": "2f680b40-d103-4c8c-914f-30356d2f0d98"
      },
      "source": [
        "sns.regplot(x=y_test, y=linreg.predict(X_test))\n",
        "plt.grid()\n",
        "plt.xlabel('Actual')\n",
        "plt.ylabel('Predicted')\n",
        "plt.title('Predicted Mol. Mass Vs. Actual Mol. Mass (Test)')\n",
        "plt.savefig('pred_act_test_molecular_mass.jpg')\n",
        "plt.show()"
      ],
      "execution_count": 30,
      "outputs": [
        {
          "output_type": "display_data",
          "data": {
            "image/png": "[encoded data removed]",
            "text/plain": [
              "<Figure size 432x288 with 1 Axes>"
            ]
          },
          "metadata": {
            "needs_background": "light"
          }
        }
      ]
    },
    {
      "cell_type": "markdown",
      "source": [
        "# SGD LinearRegression"
      ],
      "metadata": {
        "id": "V0vQnX4OV2zV"
      }
    },
    {
      "cell_type": "code",
      "source": [
        "from sklearn.linear_model import SGDRegressor\n",
        "\n",
        "sgd = SGDRegressor(penalty='l1', alpha=0.001)\n",
        "\n",
        "sgd.fit(X_train, y_train)\n",
        "\n",
        "score = sgd.score(X_train, y_train)\n",
        "print(\"R-squared:\", score)\n",
        "\n",
        "# cv_score = cross_val_score(lsvr, x, y, cv=5)\n",
        "# print(\"CV mean score: \", cv_score.mean())\n",
        "\n",
        "y_pred = sgd.predict(X_test)\n",
        "\n",
        "mse = mean_squared_error(y_test, y_pred)"
      ],
      "metadata": {
        "colab": {
          "base_uri": "https://localhost:8080/"
        },
        "id": "LmCZMhStV6zW",
        "outputId": "aef715bd-017c-4077-b467-f48c52b5d69b"
      },
      "execution_count": 31,
      "outputs": [
        {
          "output_type": "stream",
          "name": "stdout",
          "text": [
            "R-squared: 0.9597262594626277\n"
          ]
        },
        {
          "output_type": "stream",
          "name": "stderr",
          "text": [
            "/usr/local/lib/python3.7/dist-packages/sklearn/utils/validation.py:985: DataConversionWarning: A column-vector y was passed when a 1d array was expected. Please change the shape of y to (n_samples, ), for example using ravel().\n",
            "  y = column_or_1d(y, warn=True)\n"
          ]
        }
      ]
    },
    {
      "cell_type": "code",
      "source": [
        "print(\"MSE: \", mse)\n",
        "print(\"RMSE: \", np.sqrt(mse))"
      ],
      "metadata": {
        "colab": {
          "base_uri": "https://localhost:8080/"
        },
        "id": "vCJtybhZXJun",
        "outputId": "f66f9bac-a306-450d-9840-b0fab50b6fc9"
      },
      "execution_count": 32,
      "outputs": [
        {
          "output_type": "stream",
          "name": "stdout",
          "text": [
            "MSE:  0.039338103250133184\n",
            "RMSE:  0.19833835546896417\n"
          ]
        }
      ]
    },
    {
      "cell_type": "code",
      "metadata": {
        "colab": {
          "base_uri": "https://localhost:8080/",
          "height": 295
        },
        "outputId": "c14b6ec4-58d8-4265-b6be-18f7ce5934a9",
        "id": "QzK3J3GiW8qf"
      },
      "source": [
        "sns.regplot(x=y_train, y=sgd.predict(X_train))\n",
        "plt.grid()\n",
        "plt.xlabel('Actual')\n",
        "plt.ylabel('Predicted')\n",
        "plt.title('Predicted Mol. Mass Vs. Actual Mol. Mass (Train)')\n",
        "plt.savefig('pred_act_train_molecular_mass.jpg')\n",
        "plt.show()"
      ],
      "execution_count": 33,
      "outputs": [
        {
          "output_type": "display_data",
          "data": {
            "image/png": "[encoded data removed]",
            "text/plain": [
              "<Figure size 432x288 with 1 Axes>"
            ]
          },
          "metadata": {
            "needs_background": "light"
          }
        }
      ]
    },
    {
      "cell_type": "code",
      "metadata": {
        "colab": {
          "base_uri": "https://localhost:8080/",
          "height": 295
        },
        "outputId": "072dbb8c-795c-4ff5-fd01-a878732988c1",
        "id": "yD_Gjk0UW8qi"
      },
      "source": [
        "sns.regplot(x=y_test, y=sgd.predict(X_test))\n",
        "plt.grid()\n",
        "plt.xlabel('Actual')\n",
        "plt.ylabel('Predicted')\n",
        "plt.title('Predicted Mol. Mass Vs. Actual Mol. Mass (Test)')\n",
        "plt.savefig('pred_act_test_molecular_mass.jpg')\n",
        "plt.show()"
      ],
      "execution_count": 34,
      "outputs": [
        {
          "output_type": "display_data",
          "data": {
            "image/png": "[encoded data removed]",
            "text/plain": [
              "<Figure size 432x288 with 1 Axes>"
            ]
          },
          "metadata": {
            "needs_background": "light"
          }
        }
      ]
    },
    {
      "cell_type": "code",
      "source": [
        ""
      ],
      "metadata": {
        "id": "HPLIJOOyV64e"
      },
      "execution_count": 34,
      "outputs": []
    },
    {
      "cell_type": "code",
      "source": [
        ""
      ],
      "metadata": {
        "id": "vMNOrtOiV662"
      },
      "execution_count": 34,
      "outputs": []
    },
    {
      "cell_type": "markdown",
      "source": [
        "# Neural Network\n"
      ],
      "metadata": {
        "id": "ihnRfhLGV7-V"
      }
    },
    {
      "cell_type": "code",
      "source": [
        "# To work"
      ],
      "metadata": {
        "id": "6vbRCqH-V69m"
      },
      "execution_count": 34,
      "outputs": []
    },
    {
      "cell_type": "code",
      "metadata": {
        "id": "I2HCgwexH8qB"
      },
      "source": [
        "! mv *.jpg /content/drive/MyDrive/Current-Work/ML-Chemistry-Department-2021/"
      ],
      "execution_count": 35,
      "outputs": []
    },
    {
      "cell_type": "code",
      "metadata": {
        "id": "7FFMLey1J0A1"
      },
      "source": [
        ""
      ],
      "execution_count": 35,
      "outputs": []
    }
  ]
}